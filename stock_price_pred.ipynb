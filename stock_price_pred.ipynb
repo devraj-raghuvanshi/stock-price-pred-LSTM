{
  "nbformat": 4,
  "nbformat_minor": 0,
  "metadata": {
    "colab": {
      "provenance": []
    },
    "kernelspec": {
      "name": "python3",
      "display_name": "Python 3"
    },
    "language_info": {
      "name": "python"
    }
  },
  "cells": [
    {
      "cell_type": "code",
      "execution_count": 1,
      "metadata": {
        "id": "ezu6Md1Tkamm"
      },
      "outputs": [],
      "source": [
        "import numpy as np\n",
        "import pandas as pd\n",
        "from sklearn.preprocessing import MinMaxScaler\n",
        "from keras.models import Sequential\n",
        "from keras.layers import Dense, LSTM\n",
        "import matplotlib.pyplot as plt"
      ]
    },
    {
      "cell_type": "code",
      "source": [
        "pip install yfinance"
      ],
      "metadata": {
        "colab": {
          "base_uri": "https://localhost:8080/"
        },
        "id": "xUW3EDJESOyW",
        "outputId": "5a1668aa-871f-4f66-a03f-b40ddd06ec04"
      },
      "execution_count": 2,
      "outputs": [
        {
          "output_type": "stream",
          "name": "stdout",
          "text": [
            "Looking in indexes: https://pypi.org/simple, https://us-python.pkg.dev/colab-wheels/public/simple/\n",
            "Requirement already satisfied: yfinance in /usr/local/lib/python3.8/dist-packages (0.1.90)\n",
            "Requirement already satisfied: appdirs>=1.4.4 in /usr/local/lib/python3.8/dist-packages (from yfinance) (1.4.4)\n",
            "Requirement already satisfied: numpy>=1.16.5 in /usr/local/lib/python3.8/dist-packages (from yfinance) (1.21.6)\n",
            "Requirement already satisfied: lxml>=4.9.1 in /usr/local/lib/python3.8/dist-packages (from yfinance) (4.9.2)\n",
            "Requirement already satisfied: pandas>=1.3.0 in /usr/local/lib/python3.8/dist-packages (from yfinance) (1.3.5)\n",
            "Requirement already satisfied: requests>=2.26 in /usr/local/lib/python3.8/dist-packages (from yfinance) (2.28.1)\n",
            "Requirement already satisfied: multitasking>=0.0.7 in /usr/local/lib/python3.8/dist-packages (from yfinance) (0.0.11)\n",
            "Requirement already satisfied: python-dateutil>=2.7.3 in /usr/local/lib/python3.8/dist-packages (from pandas>=1.3.0->yfinance) (2.8.2)\n",
            "Requirement already satisfied: pytz>=2017.3 in /usr/local/lib/python3.8/dist-packages (from pandas>=1.3.0->yfinance) (2022.6)\n",
            "Requirement already satisfied: six>=1.5 in /usr/local/lib/python3.8/dist-packages (from python-dateutil>=2.7.3->pandas>=1.3.0->yfinance) (1.15.0)\n",
            "Requirement already satisfied: idna<4,>=2.5 in /usr/local/lib/python3.8/dist-packages (from requests>=2.26->yfinance) (2.10)\n",
            "Requirement already satisfied: certifi>=2017.4.17 in /usr/local/lib/python3.8/dist-packages (from requests>=2.26->yfinance) (2022.12.7)\n",
            "Requirement already satisfied: urllib3<1.27,>=1.21.1 in /usr/local/lib/python3.8/dist-packages (from requests>=2.26->yfinance) (1.24.3)\n",
            "Requirement already satisfied: charset-normalizer<3,>=2 in /usr/local/lib/python3.8/dist-packages (from requests>=2.26->yfinance) (2.1.1)\n"
          ]
        }
      ]
    },
    {
      "cell_type": "code",
      "source": [
        "import yfinance as yf"
      ],
      "metadata": {
        "id": "DxDcr0JwnpUa"
      },
      "execution_count": 3,
      "outputs": []
    },
    {
      "cell_type": "code",
      "source": [
        "df = yf.download('AAPL', start='2012-01-01', end='2022-11-30')"
      ],
      "metadata": {
        "colab": {
          "base_uri": "https://localhost:8080/"
        },
        "id": "FR5HgfADk8lH",
        "outputId": "a65ffd78-64ac-4064-9ff3-b26ec52ab9d0"
      },
      "execution_count": 4,
      "outputs": [
        {
          "output_type": "stream",
          "name": "stdout",
          "text": [
            "\r[*********************100%***********************]  1 of 1 completed\n"
          ]
        }
      ]
    },
    {
      "cell_type": "code",
      "source": [
        "df"
      ],
      "metadata": {
        "colab": {
          "base_uri": "https://localhost:8080/",
          "height": 455
        },
        "id": "IlznjxVxnLmQ",
        "outputId": "5fea99f5-a934-40cc-efa7-89419c183a7a"
      },
      "execution_count": 5,
      "outputs": [
        {
          "output_type": "execute_result",
          "data": {
            "text/plain": [
              "                  Open        High         Low       Close   Adj Close  \\\n",
              "Date                                                                     \n",
              "2012-01-03   14.621429   14.732143   14.607143   14.686786   12.519278   \n",
              "2012-01-04   14.642857   14.810000   14.617143   14.765714   12.586556   \n",
              "2012-01-05   14.819643   14.948214   14.738214   14.929643   12.726294   \n",
              "2012-01-06   14.991786   15.098214   14.972143   15.085714   12.859332   \n",
              "2012-01-09   15.196429   15.276786   15.048214   15.061786   12.838938   \n",
              "...                ...         ...         ...         ...         ...   \n",
              "2022-11-22  148.130005  150.419998  146.929993  150.179993  150.179993   \n",
              "2022-11-23  149.449997  151.830002  149.339996  151.070007  151.070007   \n",
              "2022-11-25  148.309998  148.880005  147.119995  148.110001  148.110001   \n",
              "2022-11-28  145.139999  146.639999  143.380005  144.220001  144.220001   \n",
              "2022-11-29  144.289993  144.809998  140.350006  141.169998  141.169998   \n",
              "\n",
              "               Volume  \n",
              "Date                   \n",
              "2012-01-03  302220800  \n",
              "2012-01-04  260022000  \n",
              "2012-01-05  271269600  \n",
              "2012-01-06  318292800  \n",
              "2012-01-09  394024400  \n",
              "...               ...  \n",
              "2022-11-22   51804100  \n",
              "2022-11-23   58301400  \n",
              "2022-11-25   35195900  \n",
              "2022-11-28   69246000  \n",
              "2022-11-29   83763800  \n",
              "\n",
              "[2746 rows x 6 columns]"
            ],
            "text/html": [
              "\n",
              "  <div id=\"df-0478a6a5-b8f1-4236-89ae-c6cdd487af55\">\n",
              "    <div class=\"colab-df-container\">\n",
              "      <div>\n",
              "<style scoped>\n",
              "    .dataframe tbody tr th:only-of-type {\n",
              "        vertical-align: middle;\n",
              "    }\n",
              "\n",
              "    .dataframe tbody tr th {\n",
              "        vertical-align: top;\n",
              "    }\n",
              "\n",
              "    .dataframe thead th {\n",
              "        text-align: right;\n",
              "    }\n",
              "</style>\n",
              "<table border=\"1\" class=\"dataframe\">\n",
              "  <thead>\n",
              "    <tr style=\"text-align: right;\">\n",
              "      <th></th>\n",
              "      <th>Open</th>\n",
              "      <th>High</th>\n",
              "      <th>Low</th>\n",
              "      <th>Close</th>\n",
              "      <th>Adj Close</th>\n",
              "      <th>Volume</th>\n",
              "    </tr>\n",
              "    <tr>\n",
              "      <th>Date</th>\n",
              "      <th></th>\n",
              "      <th></th>\n",
              "      <th></th>\n",
              "      <th></th>\n",
              "      <th></th>\n",
              "      <th></th>\n",
              "    </tr>\n",
              "  </thead>\n",
              "  <tbody>\n",
              "    <tr>\n",
              "      <th>2012-01-03</th>\n",
              "      <td>14.621429</td>\n",
              "      <td>14.732143</td>\n",
              "      <td>14.607143</td>\n",
              "      <td>14.686786</td>\n",
              "      <td>12.519278</td>\n",
              "      <td>302220800</td>\n",
              "    </tr>\n",
              "    <tr>\n",
              "      <th>2012-01-04</th>\n",
              "      <td>14.642857</td>\n",
              "      <td>14.810000</td>\n",
              "      <td>14.617143</td>\n",
              "      <td>14.765714</td>\n",
              "      <td>12.586556</td>\n",
              "      <td>260022000</td>\n",
              "    </tr>\n",
              "    <tr>\n",
              "      <th>2012-01-05</th>\n",
              "      <td>14.819643</td>\n",
              "      <td>14.948214</td>\n",
              "      <td>14.738214</td>\n",
              "      <td>14.929643</td>\n",
              "      <td>12.726294</td>\n",
              "      <td>271269600</td>\n",
              "    </tr>\n",
              "    <tr>\n",
              "      <th>2012-01-06</th>\n",
              "      <td>14.991786</td>\n",
              "      <td>15.098214</td>\n",
              "      <td>14.972143</td>\n",
              "      <td>15.085714</td>\n",
              "      <td>12.859332</td>\n",
              "      <td>318292800</td>\n",
              "    </tr>\n",
              "    <tr>\n",
              "      <th>2012-01-09</th>\n",
              "      <td>15.196429</td>\n",
              "      <td>15.276786</td>\n",
              "      <td>15.048214</td>\n",
              "      <td>15.061786</td>\n",
              "      <td>12.838938</td>\n",
              "      <td>394024400</td>\n",
              "    </tr>\n",
              "    <tr>\n",
              "      <th>...</th>\n",
              "      <td>...</td>\n",
              "      <td>...</td>\n",
              "      <td>...</td>\n",
              "      <td>...</td>\n",
              "      <td>...</td>\n",
              "      <td>...</td>\n",
              "    </tr>\n",
              "    <tr>\n",
              "      <th>2022-11-22</th>\n",
              "      <td>148.130005</td>\n",
              "      <td>150.419998</td>\n",
              "      <td>146.929993</td>\n",
              "      <td>150.179993</td>\n",
              "      <td>150.179993</td>\n",
              "      <td>51804100</td>\n",
              "    </tr>\n",
              "    <tr>\n",
              "      <th>2022-11-23</th>\n",
              "      <td>149.449997</td>\n",
              "      <td>151.830002</td>\n",
              "      <td>149.339996</td>\n",
              "      <td>151.070007</td>\n",
              "      <td>151.070007</td>\n",
              "      <td>58301400</td>\n",
              "    </tr>\n",
              "    <tr>\n",
              "      <th>2022-11-25</th>\n",
              "      <td>148.309998</td>\n",
              "      <td>148.880005</td>\n",
              "      <td>147.119995</td>\n",
              "      <td>148.110001</td>\n",
              "      <td>148.110001</td>\n",
              "      <td>35195900</td>\n",
              "    </tr>\n",
              "    <tr>\n",
              "      <th>2022-11-28</th>\n",
              "      <td>145.139999</td>\n",
              "      <td>146.639999</td>\n",
              "      <td>143.380005</td>\n",
              "      <td>144.220001</td>\n",
              "      <td>144.220001</td>\n",
              "      <td>69246000</td>\n",
              "    </tr>\n",
              "    <tr>\n",
              "      <th>2022-11-29</th>\n",
              "      <td>144.289993</td>\n",
              "      <td>144.809998</td>\n",
              "      <td>140.350006</td>\n",
              "      <td>141.169998</td>\n",
              "      <td>141.169998</td>\n",
              "      <td>83763800</td>\n",
              "    </tr>\n",
              "  </tbody>\n",
              "</table>\n",
              "<p>2746 rows × 6 columns</p>\n",
              "</div>\n",
              "      <button class=\"colab-df-convert\" onclick=\"convertToInteractive('df-0478a6a5-b8f1-4236-89ae-c6cdd487af55')\"\n",
              "              title=\"Convert this dataframe to an interactive table.\"\n",
              "              style=\"display:none;\">\n",
              "        \n",
              "  <svg xmlns=\"http://www.w3.org/2000/svg\" height=\"24px\"viewBox=\"0 0 24 24\"\n",
              "       width=\"24px\">\n",
              "    <path d=\"M0 0h24v24H0V0z\" fill=\"none\"/>\n",
              "    <path d=\"M18.56 5.44l.94 2.06.94-2.06 2.06-.94-2.06-.94-.94-2.06-.94 2.06-2.06.94zm-11 1L8.5 8.5l.94-2.06 2.06-.94-2.06-.94L8.5 2.5l-.94 2.06-2.06.94zm10 10l.94 2.06.94-2.06 2.06-.94-2.06-.94-.94-2.06-.94 2.06-2.06.94z\"/><path d=\"M17.41 7.96l-1.37-1.37c-.4-.4-.92-.59-1.43-.59-.52 0-1.04.2-1.43.59L10.3 9.45l-7.72 7.72c-.78.78-.78 2.05 0 2.83L4 21.41c.39.39.9.59 1.41.59.51 0 1.02-.2 1.41-.59l7.78-7.78 2.81-2.81c.8-.78.8-2.07 0-2.86zM5.41 20L4 18.59l7.72-7.72 1.47 1.35L5.41 20z\"/>\n",
              "  </svg>\n",
              "      </button>\n",
              "      \n",
              "  <style>\n",
              "    .colab-df-container {\n",
              "      display:flex;\n",
              "      flex-wrap:wrap;\n",
              "      gap: 12px;\n",
              "    }\n",
              "\n",
              "    .colab-df-convert {\n",
              "      background-color: #E8F0FE;\n",
              "      border: none;\n",
              "      border-radius: 50%;\n",
              "      cursor: pointer;\n",
              "      display: none;\n",
              "      fill: #1967D2;\n",
              "      height: 32px;\n",
              "      padding: 0 0 0 0;\n",
              "      width: 32px;\n",
              "    }\n",
              "\n",
              "    .colab-df-convert:hover {\n",
              "      background-color: #E2EBFA;\n",
              "      box-shadow: 0px 1px 2px rgba(60, 64, 67, 0.3), 0px 1px 3px 1px rgba(60, 64, 67, 0.15);\n",
              "      fill: #174EA6;\n",
              "    }\n",
              "\n",
              "    [theme=dark] .colab-df-convert {\n",
              "      background-color: #3B4455;\n",
              "      fill: #D2E3FC;\n",
              "    }\n",
              "\n",
              "    [theme=dark] .colab-df-convert:hover {\n",
              "      background-color: #434B5C;\n",
              "      box-shadow: 0px 1px 3px 1px rgba(0, 0, 0, 0.15);\n",
              "      filter: drop-shadow(0px 1px 2px rgba(0, 0, 0, 0.3));\n",
              "      fill: #FFFFFF;\n",
              "    }\n",
              "  </style>\n",
              "\n",
              "      <script>\n",
              "        const buttonEl =\n",
              "          document.querySelector('#df-0478a6a5-b8f1-4236-89ae-c6cdd487af55 button.colab-df-convert');\n",
              "        buttonEl.style.display =\n",
              "          google.colab.kernel.accessAllowed ? 'block' : 'none';\n",
              "\n",
              "        async function convertToInteractive(key) {\n",
              "          const element = document.querySelector('#df-0478a6a5-b8f1-4236-89ae-c6cdd487af55');\n",
              "          const dataTable =\n",
              "            await google.colab.kernel.invokeFunction('convertToInteractive',\n",
              "                                                     [key], {});\n",
              "          if (!dataTable) return;\n",
              "\n",
              "          const docLinkHtml = 'Like what you see? Visit the ' +\n",
              "            '<a target=\"_blank\" href=https://colab.research.google.com/notebooks/data_table.ipynb>data table notebook</a>'\n",
              "            + ' to learn more about interactive tables.';\n",
              "          element.innerHTML = '';\n",
              "          dataTable['output_type'] = 'display_data';\n",
              "          await google.colab.output.renderOutput(dataTable, element);\n",
              "          const docLink = document.createElement('div');\n",
              "          docLink.innerHTML = docLinkHtml;\n",
              "          element.appendChild(docLink);\n",
              "        }\n",
              "      </script>\n",
              "    </div>\n",
              "  </div>\n",
              "  "
            ]
          },
          "metadata": {},
          "execution_count": 5
        }
      ]
    },
    {
      "cell_type": "code",
      "source": [
        "plt.figure(figsize =(16,8))\n",
        "plt.plot(df['Close'])\n",
        "plt.title('Closing Price History', fontsize=18)\n",
        "plt.xlabel('Year', fontsize=15)\n",
        "plt.ylabel('Close Price ($)', fontsize=15)\n",
        "plt.show()"
      ],
      "metadata": {
        "colab": {
          "base_uri": "https://localhost:8080/",
          "height": 522
        },
        "id": "oic9KxyNnxQS",
        "outputId": "05c3a2be-39a6-427e-96c0-2171cd639fe1"
      },
      "execution_count": 6,
      "outputs": [
        {
          "output_type": "display_data",
          "data": {
            "text/plain": [
              "<Figure size 1152x576 with 1 Axes>"
            ],
            "image/png": "[encoded data removed]"
          },
          "metadata": {
            "needs_background": "light"
          }
        }
      ]
    },
    {
      "cell_type": "markdown",
      "source": [
        "# Preparing data for the deep learning model"
      ],
      "metadata": {
        "id": "HGYJVbntu768"
      }
    },
    {
      "cell_type": "code",
      "source": [
        "close_values = df['Close'].values"
      ],
      "metadata": {
        "id": "NAJbBQhMoD0Y"
      },
      "execution_count": 7,
      "outputs": []
    },
    {
      "cell_type": "code",
      "source": [
        "close_values = close_values.reshape(len(close_values),1)"
      ],
      "metadata": {
        "id": "mvwAtKgjpVht"
      },
      "execution_count": 8,
      "outputs": []
    },
    {
      "cell_type": "code",
      "source": [
        "scaler = MinMaxScaler(feature_range=(0,1))\n",
        "scaled = scaler.fit_transform(close_values)\n",
        "scaled"
      ],
      "metadata": {
        "colab": {
          "base_uri": "https://localhost:8080/"
        },
        "id": "HPTyisjzpyVH",
        "outputId": "0103a113-4588-4b27-e9c4-ecef394b2e99"
      },
      "execution_count": 9,
      "outputs": [
        {
          "output_type": "execute_result",
          "data": {
            "text/plain": [
              "array([[0.00439887],\n",
              "       [0.00486851],\n",
              "       [0.00584391],\n",
              "       ...,\n",
              "       [0.79828936],\n",
              "       [0.77514321],\n",
              "       [0.75699518]])"
            ]
          },
          "metadata": {},
          "execution_count": 9
        }
      ]
    },
    {
      "cell_type": "code",
      "source": [
        "scaled.shape"
      ],
      "metadata": {
        "colab": {
          "base_uri": "https://localhost:8080/"
        },
        "id": "3mL9j97LgcFj",
        "outputId": "f6bc47b5-4c9a-494b-8821-d32e290fdb8c"
      },
      "execution_count": 10,
      "outputs": [
        {
          "output_type": "execute_result",
          "data": {
            "text/plain": [
              "(2746, 1)"
            ]
          },
          "metadata": {},
          "execution_count": 10
        }
      ]
    },
    {
      "cell_type": "code",
      "source": [
        "X = []\n",
        "y = []\n",
        "\n",
        "time_steps = 60\n",
        "for i in range(len(scaled) - time_steps - 1):\n",
        "  X.append(scaled[i:(i+time_steps),0])\n",
        "  y.append(scaled[i+time_steps,0])"
      ],
      "metadata": {
        "id": "KPXfDD0wxJAe"
      },
      "execution_count": 11,
      "outputs": []
    },
    {
      "cell_type": "code",
      "source": [
        "X = np.array(X)\n",
        "X"
      ],
      "metadata": {
        "colab": {
          "base_uri": "https://localhost:8080/"
        },
        "id": "mtCUi86Iy98X",
        "outputId": "5c87ef5b-1101-4deb-a1d8-2fdb4fda8593"
      },
      "execution_count": 12,
      "outputs": [
        {
          "output_type": "execute_result",
          "data": {
            "text/plain": [
              "array([[0.00439887, 0.00486851, 0.00584391, ..., 0.04599691, 0.04759072,\n",
              "        0.04825798],\n",
              "       [0.00486851, 0.00584391, 0.00677256, ..., 0.04759072, 0.04825798,\n",
              "        0.04660893],\n",
              "       [0.00584391, 0.00677256, 0.00663019, ..., 0.04825798, 0.04660893,\n",
              "        0.044418  ],\n",
              "       ...,\n",
              "       [0.86255118, 0.85249539, 0.85689854, ..., 0.81721085, 0.7976943 ,\n",
              "        0.81060616],\n",
              "       [0.85249539, 0.85689854, 0.84410563, ..., 0.7976943 , 0.81060616,\n",
              "        0.81590189],\n",
              "       [0.85689854, 0.84410563, 0.83648942, ..., 0.81060616, 0.81590189,\n",
              "        0.79828936]])"
            ]
          },
          "metadata": {},
          "execution_count": 12
        }
      ]
    },
    {
      "cell_type": "code",
      "source": [
        "X.shape"
      ],
      "metadata": {
        "colab": {
          "base_uri": "https://localhost:8080/"
        },
        "id": "J3_BWoQkZJjU",
        "outputId": "0a2a6ddd-9746-4b57-d813-183d4d0588e9"
      },
      "execution_count": 13,
      "outputs": [
        {
          "output_type": "execute_result",
          "data": {
            "text/plain": [
              "(2685, 60)"
            ]
          },
          "metadata": {},
          "execution_count": 13
        }
      ]
    },
    {
      "cell_type": "code",
      "source": [
        "y = np.array(y)\n",
        "y"
      ],
      "metadata": {
        "colab": {
          "base_uri": "https://localhost:8080/"
        },
        "id": "b95RGJovzB3p",
        "outputId": "3f35cad4-d1ee-4ae9-af27-8027149aa857"
      },
      "execution_count": 14,
      "outputs": [
        {
          "output_type": "execute_result",
          "data": {
            "text/plain": [
              "array([0.04660893, 0.044418  , 0.04847262, ..., 0.81590189, 0.79828936,\n",
              "       0.77514321])"
            ]
          },
          "metadata": {},
          "execution_count": 14
        }
      ]
    },
    {
      "cell_type": "code",
      "source": [
        "y.shape"
      ],
      "metadata": {
        "colab": {
          "base_uri": "https://localhost:8080/"
        },
        "id": "5bl2m9QgZMOJ",
        "outputId": "49dee0b6-fa3b-407a-c693-f070640d1746"
      },
      "execution_count": 15,
      "outputs": [
        {
          "output_type": "execute_result",
          "data": {
            "text/plain": [
              "(2685,)"
            ]
          },
          "metadata": {},
          "execution_count": 15
        }
      ]
    },
    {
      "cell_type": "code",
      "source": [
        "df['Close']"
      ],
      "metadata": {
        "colab": {
          "base_uri": "https://localhost:8080/"
        },
        "id": "bFN_Lqs6mfve",
        "outputId": "73be8ba7-b58d-49cc-f7af-270fef9544b7"
      },
      "execution_count": 16,
      "outputs": [
        {
          "output_type": "execute_result",
          "data": {
            "text/plain": [
              "Date\n",
              "2012-01-03     14.686786\n",
              "2012-01-04     14.765714\n",
              "2012-01-05     14.929643\n",
              "2012-01-06     15.085714\n",
              "2012-01-09     15.061786\n",
              "                 ...    \n",
              "2022-11-22    150.179993\n",
              "2022-11-23    151.070007\n",
              "2022-11-25    148.110001\n",
              "2022-11-28    144.220001\n",
              "2022-11-29    141.169998\n",
              "Name: Close, Length: 2746, dtype: float64"
            ]
          },
          "metadata": {},
          "execution_count": 16
        }
      ]
    },
    {
      "cell_type": "code",
      "source": [
        "list = [str([i for i in range(j-60,j)]) for j in range(60, len(X)+61)]\n",
        "\n",
        "pd.DataFrame({\n",
        "    'X' : list,\n",
        "    'y' : [i+61 for i in range(len(list))]\n",
        "})"
      ],
      "metadata": {
        "colab": {
          "base_uri": "https://localhost:8080/",
          "height": 424
        },
        "id": "wZPfiWQkpzux",
        "outputId": "6aa8e113-214e-48d2-9279-cb5001d2ca82"
      },
      "execution_count": 17,
      "outputs": [
        {
          "output_type": "execute_result",
          "data": {
            "text/plain": [
              "                                                      X     y\n",
              "0     [0, 1, 2, 3, 4, 5, 6, 7, 8, 9, 10, 11, 12, 13,...    61\n",
              "1     [1, 2, 3, 4, 5, 6, 7, 8, 9, 10, 11, 12, 13, 14...    62\n",
              "2     [2, 3, 4, 5, 6, 7, 8, 9, 10, 11, 12, 13, 14, 1...    63\n",
              "3     [3, 4, 5, 6, 7, 8, 9, 10, 11, 12, 13, 14, 15, ...    64\n",
              "4     [4, 5, 6, 7, 8, 9, 10, 11, 12, 13, 14, 15, 16,...    65\n",
              "...                                                 ...   ...\n",
              "2681  [2681, 2682, 2683, 2684, 2685, 2686, 2687, 268...  2742\n",
              "2682  [2682, 2683, 2684, 2685, 2686, 2687, 2688, 268...  2743\n",
              "2683  [2683, 2684, 2685, 2686, 2687, 2688, 2689, 269...  2744\n",
              "2684  [2684, 2685, 2686, 2687, 2688, 2689, 2690, 269...  2745\n",
              "2685  [2685, 2686, 2687, 2688, 2689, 2690, 2691, 269...  2746\n",
              "\n",
              "[2686 rows x 2 columns]"
            ],
            "text/html": [
              "\n",
              "  <div id=\"df-30ff606a-b3d5-4987-89c6-89efa237fc8d\">\n",
              "    <div class=\"colab-df-container\">\n",
              "      <div>\n",
              "<style scoped>\n",
              "    .dataframe tbody tr th:only-of-type {\n",
              "        vertical-align: middle;\n",
              "    }\n",
              "\n",
              "    .dataframe tbody tr th {\n",
              "        vertical-align: top;\n",
              "    }\n",
              "\n",
              "    .dataframe thead th {\n",
              "        text-align: right;\n",
              "    }\n",
              "</style>\n",
              "<table border=\"1\" class=\"dataframe\">\n",
              "  <thead>\n",
              "    <tr style=\"text-align: right;\">\n",
              "      <th></th>\n",
              "      <th>X</th>\n",
              "      <th>y</th>\n",
              "    </tr>\n",
              "  </thead>\n",
              "  <tbody>\n",
              "    <tr>\n",
              "      <th>0</th>\n",
              "      <td>[0, 1, 2, 3, 4, 5, 6, 7, 8, 9, 10, 11, 12, 13,...</td>\n",
              "      <td>61</td>\n",
              "    </tr>\n",
              "    <tr>\n",
              "      <th>1</th>\n",
              "      <td>[1, 2, 3, 4, 5, 6, 7, 8, 9, 10, 11, 12, 13, 14...</td>\n",
              "      <td>62</td>\n",
              "    </tr>\n",
              "    <tr>\n",
              "      <th>2</th>\n",
              "      <td>[2, 3, 4, 5, 6, 7, 8, 9, 10, 11, 12, 13, 14, 1...</td>\n",
              "      <td>63</td>\n",
              "    </tr>\n",
              "    <tr>\n",
              "      <th>3</th>\n",
              "      <td>[3, 4, 5, 6, 7, 8, 9, 10, 11, 12, 13, 14, 15, ...</td>\n",
              "      <td>64</td>\n",
              "    </tr>\n",
              "    <tr>\n",
              "      <th>4</th>\n",
              "      <td>[4, 5, 6, 7, 8, 9, 10, 11, 12, 13, 14, 15, 16,...</td>\n",
              "      <td>65</td>\n",
              "    </tr>\n",
              "    <tr>\n",
              "      <th>...</th>\n",
              "      <td>...</td>\n",
              "      <td>...</td>\n",
              "    </tr>\n",
              "    <tr>\n",
              "      <th>2681</th>\n",
              "      <td>[2681, 2682, 2683, 2684, 2685, 2686, 2687, 268...</td>\n",
              "      <td>2742</td>\n",
              "    </tr>\n",
              "    <tr>\n",
              "      <th>2682</th>\n",
              "      <td>[2682, 2683, 2684, 2685, 2686, 2687, 2688, 268...</td>\n",
              "      <td>2743</td>\n",
              "    </tr>\n",
              "    <tr>\n",
              "      <th>2683</th>\n",
              "      <td>[2683, 2684, 2685, 2686, 2687, 2688, 2689, 269...</td>\n",
              "      <td>2744</td>\n",
              "    </tr>\n",
              "    <tr>\n",
              "      <th>2684</th>\n",
              "      <td>[2684, 2685, 2686, 2687, 2688, 2689, 2690, 269...</td>\n",
              "      <td>2745</td>\n",
              "    </tr>\n",
              "    <tr>\n",
              "      <th>2685</th>\n",
              "      <td>[2685, 2686, 2687, 2688, 2689, 2690, 2691, 269...</td>\n",
              "      <td>2746</td>\n",
              "    </tr>\n",
              "  </tbody>\n",
              "</table>\n",
              "<p>2686 rows × 2 columns</p>\n",
              "</div>\n",
              "      <button class=\"colab-df-convert\" onclick=\"convertToInteractive('df-30ff606a-b3d5-4987-89c6-89efa237fc8d')\"\n",
              "              title=\"Convert this dataframe to an interactive table.\"\n",
              "              style=\"display:none;\">\n",
              "        \n",
              "  <svg xmlns=\"http://www.w3.org/2000/svg\" height=\"24px\"viewBox=\"0 0 24 24\"\n",
              "       width=\"24px\">\n",
              "    <path d=\"M0 0h24v24H0V0z\" fill=\"none\"/>\n",
              "    <path d=\"M18.56 5.44l.94 2.06.94-2.06 2.06-.94-2.06-.94-.94-2.06-.94 2.06-2.06.94zm-11 1L8.5 8.5l.94-2.06 2.06-.94-2.06-.94L8.5 2.5l-.94 2.06-2.06.94zm10 10l.94 2.06.94-2.06 2.06-.94-2.06-.94-.94-2.06-.94 2.06-2.06.94z\"/><path d=\"M17.41 7.96l-1.37-1.37c-.4-.4-.92-.59-1.43-.59-.52 0-1.04.2-1.43.59L10.3 9.45l-7.72 7.72c-.78.78-.78 2.05 0 2.83L4 21.41c.39.39.9.59 1.41.59.51 0 1.02-.2 1.41-.59l7.78-7.78 2.81-2.81c.8-.78.8-2.07 0-2.86zM5.41 20L4 18.59l7.72-7.72 1.47 1.35L5.41 20z\"/>\n",
              "  </svg>\n",
              "      </button>\n",
              "      \n",
              "  <style>\n",
              "    .colab-df-container {\n",
              "      display:flex;\n",
              "      flex-wrap:wrap;\n",
              "      gap: 12px;\n",
              "    }\n",
              "\n",
              "    .colab-df-convert {\n",
              "      background-color: #E8F0FE;\n",
              "      border: none;\n",
              "      border-radius: 50%;\n",
              "      cursor: pointer;\n",
              "      display: none;\n",
              "      fill: #1967D2;\n",
              "      height: 32px;\n",
              "      padding: 0 0 0 0;\n",
              "      width: 32px;\n",
              "    }\n",
              "\n",
              "    .colab-df-convert:hover {\n",
              "      background-color: #E2EBFA;\n",
              "      box-shadow: 0px 1px 2px rgba(60, 64, 67, 0.3), 0px 1px 3px 1px rgba(60, 64, 67, 0.15);\n",
              "      fill: #174EA6;\n",
              "    }\n",
              "\n",
              "    [theme=dark] .colab-df-convert {\n",
              "      background-color: #3B4455;\n",
              "      fill: #D2E3FC;\n",
              "    }\n",
              "\n",
              "    [theme=dark] .colab-df-convert:hover {\n",
              "      background-color: #434B5C;\n",
              "      box-shadow: 0px 1px 3px 1px rgba(0, 0, 0, 0.15);\n",
              "      filter: drop-shadow(0px 1px 2px rgba(0, 0, 0, 0.3));\n",
              "      fill: #FFFFFF;\n",
              "    }\n",
              "  </style>\n",
              "\n",
              "      <script>\n",
              "        const buttonEl =\n",
              "          document.querySelector('#df-30ff606a-b3d5-4987-89c6-89efa237fc8d button.colab-df-convert');\n",
              "        buttonEl.style.display =\n",
              "          google.colab.kernel.accessAllowed ? 'block' : 'none';\n",
              "\n",
              "        async function convertToInteractive(key) {\n",
              "          const element = document.querySelector('#df-30ff606a-b3d5-4987-89c6-89efa237fc8d');\n",
              "          const dataTable =\n",
              "            await google.colab.kernel.invokeFunction('convertToInteractive',\n",
              "                                                     [key], {});\n",
              "          if (!dataTable) return;\n",
              "\n",
              "          const docLinkHtml = 'Like what you see? Visit the ' +\n",
              "            '<a target=\"_blank\" href=https://colab.research.google.com/notebooks/data_table.ipynb>data table notebook</a>'\n",
              "            + ' to learn more about interactive tables.';\n",
              "          element.innerHTML = '';\n",
              "          dataTable['output_type'] = 'display_data';\n",
              "          await google.colab.output.renderOutput(dataTable, element);\n",
              "          const docLink = document.createElement('div');\n",
              "          docLink.innerHTML = docLinkHtml;\n",
              "          element.appendChild(docLink);\n",
              "        }\n",
              "      </script>\n",
              "    </div>\n",
              "  </div>\n",
              "  "
            ]
          },
          "metadata": {},
          "execution_count": 17
        }
      ]
    },
    {
      "cell_type": "code",
      "source": [
        "from sklearn.model_selection import train_test_split"
      ],
      "metadata": {
        "id": "DlvDu8hxpsC-"
      },
      "execution_count": 18,
      "outputs": []
    },
    {
      "cell_type": "code",
      "source": [
        "X_train, X_test, y_train, y_test = train_test_split(np.array(X), np.array(y), test_size=0.2, shuffle=False)"
      ],
      "metadata": {
        "id": "IgEEQFjiql4D"
      },
      "execution_count": 19,
      "outputs": []
    },
    {
      "cell_type": "code",
      "source": [
        "y_train"
      ],
      "metadata": {
        "colab": {
          "base_uri": "https://localhost:8080/"
        },
        "id": "48lkA4IrmsbW",
        "outputId": "c9e426ff-b415-47fb-8d08-897d5ad6e198"
      },
      "execution_count": 20,
      "outputs": [
        {
          "output_type": "execute_result",
          "data": {
            "text/plain": [
              "array([0.04660893, 0.044418  , 0.04847262, ..., 0.60175533, 0.60110081,\n",
              "       0.61300114])"
            ]
          },
          "metadata": {},
          "execution_count": 20
        }
      ]
    },
    {
      "cell_type": "code",
      "source": [
        "X_train.shape"
      ],
      "metadata": {
        "colab": {
          "base_uri": "https://localhost:8080/"
        },
        "id": "oWRXJNW4yCXH",
        "outputId": "f5f6b476-f394-4c58-bbb0-b38fb00c4e88"
      },
      "execution_count": 21,
      "outputs": [
        {
          "output_type": "execute_result",
          "data": {
            "text/plain": [
              "(2148, 60)"
            ]
          },
          "metadata": {},
          "execution_count": 21
        }
      ]
    },
    {
      "cell_type": "code",
      "source": [
        "X_test.shape"
      ],
      "metadata": {
        "colab": {
          "base_uri": "https://localhost:8080/"
        },
        "id": "5Kx3NtvWzvKa",
        "outputId": "b6c72f71-9c54-4bab-d9ff-802857b359f7"
      },
      "execution_count": 22,
      "outputs": [
        {
          "output_type": "execute_result",
          "data": {
            "text/plain": [
              "(537, 60)"
            ]
          },
          "metadata": {},
          "execution_count": 22
        }
      ]
    },
    {
      "cell_type": "code",
      "source": [
        "X_train = X_train.reshape(X_train.shape[0], X_train.shape[1], 1)"
      ],
      "metadata": {
        "id": "Vvtq2kKfz4Eg"
      },
      "execution_count": 23,
      "outputs": []
    },
    {
      "cell_type": "code",
      "source": [
        "X_train.shape"
      ],
      "metadata": {
        "colab": {
          "base_uri": "https://localhost:8080/"
        },
        "id": "BtBWwth-0pmM",
        "outputId": "a1019052-9d47-4630-8914-7803f50d1eef"
      },
      "execution_count": 24,
      "outputs": [
        {
          "output_type": "execute_result",
          "data": {
            "text/plain": [
              "(2148, 60, 1)"
            ]
          },
          "metadata": {},
          "execution_count": 24
        }
      ]
    },
    {
      "cell_type": "markdown",
      "source": [
        "# **Model**"
      ],
      "metadata": {
        "id": "JLgZSLTNugCb"
      }
    },
    {
      "cell_type": "code",
      "source": [
        "model = Sequential([\n",
        "    LSTM(50, return_sequences=True, input_shape=(60,1)),\n",
        "    LSTM(50, return_sequences=False),\n",
        "    Dense(25, activation='relu'),\n",
        "    Dense(1)\n",
        "])"
      ],
      "metadata": {
        "id": "bjkzdnCx0sVE"
      },
      "execution_count": 25,
      "outputs": []
    },
    {
      "cell_type": "code",
      "source": [
        "model.summary()"
      ],
      "metadata": {
        "colab": {
          "base_uri": "https://localhost:8080/"
        },
        "id": "fNsHDGvS1uG4",
        "outputId": "cd563e75-3512-451e-a042-df9b328db881"
      },
      "execution_count": 26,
      "outputs": [
        {
          "output_type": "stream",
          "name": "stdout",
          "text": [
            "Model: \"sequential\"\n",
            "_________________________________________________________________\n",
            " Layer (type)                Output Shape              Param #   \n",
            "=================================================================\n",
            " lstm (LSTM)                 (None, 60, 50)            10400     \n",
            "                                                                 \n",
            " lstm_1 (LSTM)               (None, 50)                20200     \n",
            "                                                                 \n",
            " dense (Dense)               (None, 25)                1275      \n",
            "                                                                 \n",
            " dense_1 (Dense)             (None, 1)                 26        \n",
            "                                                                 \n",
            "=================================================================\n",
            "Total params: 31,901\n",
            "Trainable params: 31,901\n",
            "Non-trainable params: 0\n",
            "_________________________________________________________________\n"
          ]
        }
      ]
    },
    {
      "cell_type": "code",
      "source": [
        "model.compile(\n",
        "    loss='mean_squared_error',\n",
        "    optimizer='adam'\n",
        ")"
      ],
      "metadata": {
        "id": "U9Dy9C0t1u9q"
      },
      "execution_count": 27,
      "outputs": []
    },
    {
      "cell_type": "code",
      "source": [
        "model.fit(X_train, y_train, validation_data = (X_test, y_test), epochs=10)"
      ],
      "metadata": {
        "colab": {
          "base_uri": "https://localhost:8080/"
        },
        "id": "4rMoYa_o17Cr",
        "outputId": "92021cef-e085-4140-c11c-7928a3546400"
      },
      "execution_count": 28,
      "outputs": [
        {
          "output_type": "stream",
          "name": "stdout",
          "text": [
            "Epoch 1/10\n",
            "68/68 [==============================] - 12s 116ms/step - loss: 0.0022 - val_loss: 0.0017\n",
            "Epoch 2/10\n",
            "68/68 [==============================] - 9s 132ms/step - loss: 2.0854e-04 - val_loss: 0.0037\n",
            "Epoch 3/10\n",
            "68/68 [==============================] - 9s 136ms/step - loss: 2.5570e-04 - val_loss: 0.0013\n",
            "Epoch 4/10\n",
            "68/68 [==============================] - 6s 82ms/step - loss: 1.8008e-04 - val_loss: 0.0014\n",
            "Epoch 5/10\n",
            "68/68 [==============================] - 4s 63ms/step - loss: 1.7464e-04 - val_loss: 0.0011\n",
            "Epoch 6/10\n",
            "68/68 [==============================] - 5s 67ms/step - loss: 1.5306e-04 - val_loss: 9.4994e-04\n",
            "Epoch 7/10\n",
            "68/68 [==============================] - 5s 69ms/step - loss: 2.2449e-04 - val_loss: 0.0011\n",
            "Epoch 8/10\n",
            "68/68 [==============================] - 5s 67ms/step - loss: 1.3815e-04 - val_loss: 0.0022\n",
            "Epoch 9/10\n",
            "68/68 [==============================] - 4s 60ms/step - loss: 1.3587e-04 - val_loss: 0.0011\n",
            "Epoch 10/10\n",
            "68/68 [==============================] - 4s 65ms/step - loss: 1.1814e-04 - val_loss: 8.4735e-04\n"
          ]
        },
        {
          "output_type": "execute_result",
          "data": {
            "text/plain": [
              "<keras.callbacks.History at 0x7f3e58e55910>"
            ]
          },
          "metadata": {},
          "execution_count": 28
        }
      ]
    },
    {
      "cell_type": "markdown",
      "source": [
        "# Predictions for Test set"
      ],
      "metadata": {
        "id": "vRe_r9huuoPd"
      }
    },
    {
      "cell_type": "code",
      "source": [
        "X_test.shape"
      ],
      "metadata": {
        "colab": {
          "base_uri": "https://localhost:8080/"
        },
        "id": "cO0WkKAwdfw9",
        "outputId": "09daf30d-a48b-4cdf-a650-8be36c3af429"
      },
      "execution_count": 29,
      "outputs": [
        {
          "output_type": "execute_result",
          "data": {
            "text/plain": [
              "(537, 60)"
            ]
          },
          "metadata": {},
          "execution_count": 29
        }
      ]
    },
    {
      "cell_type": "code",
      "source": [
        "predictions = model.predict(X_test.reshape(X_test.shape[0], X_test.shape[1], 1))\n",
        "predictions = scaler.inverse_transform(predictions)"
      ],
      "metadata": {
        "colab": {
          "base_uri": "https://localhost:8080/"
        },
        "id": "Mx-1ZYdl2Qam",
        "outputId": "fb0769a1-e2b5-43d5-fec1-8f1e935fcb70"
      },
      "execution_count": 30,
      "outputs": [
        {
          "output_type": "stream",
          "name": "stdout",
          "text": [
            "17/17 [==============================] - 2s 17ms/step\n"
          ]
        }
      ]
    },
    {
      "cell_type": "code",
      "source": [
        "predictions = predictions.reshape(predictions.shape[0],)"
      ],
      "metadata": {
        "id": "MZ1NoXb33QMq"
      },
      "execution_count": 31,
      "outputs": []
    },
    {
      "cell_type": "code",
      "source": [
        "predictions"
      ],
      "metadata": {
        "colab": {
          "base_uri": "https://localhost:8080/"
        },
        "id": "nVIOFJNI3T-i",
        "outputId": "2b0071da-36d5-43e4-a7c8-06de01a9c189"
      },
      "execution_count": 32,
      "outputs": [
        {
          "output_type": "execute_result",
          "data": {
            "text/plain": [
              "array([115.24382 , 116.341034, 117.45936 , 118.531   , 119.44434 ,\n",
              "       120.03465 , 120.10771 , 119.97704 , 119.65487 , 119.136246,\n",
              "       118.47161 , 117.765274, 117.21746 , 116.34612 , 115.70824 ,\n",
              "       114.70067 , 113.55324 , 112.543564, 112.07682 , 112.33188 ,\n",
              "       113.00211 , 113.70003 , 114.345314, 115.20746 , 116.10545 ,\n",
              "       116.96461 , 117.82103 , 118.525375, 118.96135 , 119.24405 ,\n",
              "       119.286514, 118.872154, 118.31866 , 117.78111 , 117.33867 ,\n",
              "       117.2014  , 117.579   , 118.28159 , 119.13207 , 119.95464 ,\n",
              "       120.82577 , 121.7053  , 122.29118 , 122.775276, 123.07169 ,\n",
              "       123.16867 , 123.65705 , 124.325714, 125.13922 , 125.800606,\n",
              "       126.45476 , 127.359024, 128.25371 , 129.16277 , 130.41524 ,\n",
              "       131.60538 , 132.56543 , 133.20786 , 133.29982 , 133.17648 ,\n",
              "       132.51756 , 131.96127 , 131.58679 , 131.08379 , 130.53737 ,\n",
              "       130.18774 , 129.80786 , 129.29393 , 128.80212 , 128.72627 ,\n",
              "       129.33131 , 130.50734 , 132.29834 , 134.35587 , 136.32657 ,\n",
              "       137.64299 , 137.98964 , 137.8889  , 137.55836 , 137.00182 ,\n",
              "       136.65208 , 136.38808 , 136.21779 , 136.04071 , 135.82164 ,\n",
              "       135.57074 , 135.33965 , 134.9443  , 134.27734 , 133.39899 ,\n",
              "       132.4722  , 131.24716 , 129.93637 , 128.6313  , 127.05932 ,\n",
              "       125.488716, 124.61027 , 123.99359 , 123.35465 , 122.60624 ,\n",
              "       121.96959 , 121.01666 , 120.36901 , 119.85663 , 119.65562 ,\n",
              "       119.5913  , 119.88731 , 120.52389 , 121.26263 , 121.65302 ,\n",
              "       121.7597  , 121.967316, 122.1344  , 122.05652 , 121.880775,\n",
              "       121.70531 , 121.556526, 121.30823 , 121.2165  , 121.2969  ,\n",
              "       121.73185 , 122.38    , 123.26448 , 124.44125 , 125.93622 ,\n",
              "       127.35581 , 128.90137 , 130.17625 , 131.3985  , 132.44037 ,\n",
              "       133.33792 , 133.90715 , 134.25407 , 134.28108 , 134.30956 ,\n",
              "       134.35298 , 134.36732 , 134.2882  , 134.1458  , 133.79146 ,\n",
              "       133.42964 , 132.669   , 131.75471 , 130.95236 , 130.31813 ,\n",
              "       129.54883 , 128.69049 , 127.57358 , 126.58555 , 125.964806,\n",
              "       125.52178 , 125.11845 , 124.77033 , 124.716995, 124.68753 ,\n",
              "       124.83522 , 125.06461 , 125.32943 , 125.46272 , 125.45083 ,\n",
              "       125.32014 , 125.19202 , 124.94068 , 124.84204 , 124.841095,\n",
              "       124.97951 , 125.22972 , 125.44409 , 125.731804, 126.31115 ,\n",
              "       126.94733 , 127.62078 , 128.4059  , 129.07584 , 129.78432 ,\n",
              "       130.59741 , 131.37923 , 132.05254 , 132.5732  , 133.09746 ,\n",
              "       133.70613 , 134.36583 , 135.02759 , 135.87122 , 136.9308  ,\n",
              "       138.25943 , 139.52167 , 140.80925 , 141.93784 , 142.97011 ,\n",
              "       144.15677 , 145.26042 , 146.02997 , 146.16913 , 146.23355 ,\n",
              "       146.14417 , 146.08585 , 146.19698 , 146.43324 , 146.5261  ,\n",
              "       146.36661 , 146.1208  , 145.84929 , 145.5478  , 145.41649 ,\n",
              "       145.35738 , 145.36226 , 145.32486 , 145.26335 , 145.14653 ,\n",
              "       145.02875 , 145.18976 , 145.5205  , 146.11699 , 146.7437  ,\n",
              "       147.00044 , 147.04759 , 147.08298 , 147.23293 , 147.42747 ,\n",
              "       147.52257 , 147.47849 , 147.44614 , 147.82253 , 148.29016 ,\n",
              "       148.84946 , 149.52092 , 150.26047 , 151.19414 , 152.01747 ,\n",
              "       152.61436 , 152.55461 , 152.15271 , 151.42218 , 150.62518 ,\n",
              "       149.82047 , 148.83147 , 147.54073 , 146.22295 , 145.20827 ,\n",
              "       144.54797 , 144.17891 , 143.89572 , 143.39595 , 142.9018  ,\n",
              "       142.32896 , 141.86517 , 141.1942  , 140.64355 , 140.28705 ,\n",
              "       140.20058 , 140.2608  , 140.41154 , 140.49794 , 140.49232 ,\n",
              "       140.68643 , 141.07681 , 141.71356 , 142.65067 , 143.74265 ,\n",
              "       144.86554 , 145.84444 , 146.6474  , 147.32784 , 147.82207 ,\n",
              "       148.489   , 148.93724 , 149.14455 , 149.27419 , 149.46323 ,\n",
              "       149.61432 , 149.75732 , 149.80197 , 149.81398 , 149.53683 ,\n",
              "       149.10463 , 148.79468 , 148.57472 , 148.52104 , 148.79842 ,\n",
              "       149.64922 , 151.0214  , 152.64972 , 154.34422 , 155.98515 ,\n",
              "       156.97885 , 157.80827 , 158.89302 , 159.96547 , 160.84734 ,\n",
              "       161.35675 , 161.90535 , 162.93839 , 164.5119  , 166.22641 ,\n",
              "       168.33768 , 170.1437  , 171.48346 , 172.8646  , 173.4524  ,\n",
              "       173.41112 , 172.83324 , 172.25409 , 171.93349 , 171.8397  ,\n",
              "       172.2656  , 172.86244 , 173.53145 , 174.07573 , 174.43727 ,\n",
              "       175.05936 , 175.54446 , 175.4692  , 174.79915 , 173.83397 ,\n",
              "       172.75528 , 171.9581  , 171.4302  , 170.81198 , 170.29579 ,\n",
              "       169.58333 , 168.50104 , 167.14087 , 165.53737 , 163.85721 ,\n",
              "       162.11066 , 160.4784  , 159.02176 , 158.82187 , 159.79666 ,\n",
              "       161.42574 , 163.4732  , 165.35161 , 166.93794 , 168.13606 ,\n",
              "       169.27559 , 170.38924 , 170.9945  , 170.92433 , 170.46518 ,\n",
              "       170.14507 , 169.88597 , 169.34895 , 168.55661 , 167.39993 ,\n",
              "       165.73317 , 164.14957 , 162.92474 , 162.04651 , 161.29456 ,\n",
              "       161.01309 , 161.01262 , 160.92346 , 160.45729 , 159.64586 ,\n",
              "       159.1951  , 158.57834 , 157.59673 , 156.11835 , 154.877   ,\n",
              "       154.27318 , 154.20488 , 154.79916 , 155.89114 , 157.52946 ,\n",
              "       159.49869 , 161.86789 , 164.33551 , 166.7356  , 169.18948 ,\n",
              "       171.3305  , 172.79315 , 173.67499 , 174.47736 , 174.80273 ,\n",
              "       174.50552 , 173.87273 , 172.87285 , 171.32489 , 169.75444 ,\n",
              "       168.53273 , 167.14606 , 165.7863  , 164.77318 , 164.03809 ,\n",
              "       163.47546 , 162.65897 , 161.88268 , 160.63872 , 159.22147 ,\n",
              "       158.45897 , 157.59818 , 156.8237  , 156.31387 , 156.60915 ,\n",
              "       156.52866 , 156.32744 , 155.59201 , 154.83084 , 153.37772 ,\n",
              "       151.29874 , 149.4249  , 147.67134 , 146.48944 , 145.0089  ,\n",
              "       143.20877 , 141.39735 , 140.21979 , 139.28206 , 138.61943 ,\n",
              "       138.48888 , 139.22823 , 140.3844  , 141.72493 , 143.30971 ,\n",
              "       144.3922  , 145.16307 , 145.89264 , 146.45168 , 146.38011 ,\n",
              "       145.44075 , 143.57506 , 141.36705 , 139.34421 , 137.11475 ,\n",
              "       135.09987 , 133.76006 , 132.9028  , 132.69746 , 133.22548 ,\n",
              "       134.1817  , 134.97672 , 135.78845 , 136.31454 , 136.8228  ,\n",
              "       137.50063 , 138.3434  , 139.52747 , 140.88428 , 142.04793 ,\n",
              "       143.09085 , 143.92679 , 144.82443 , 145.81972 , 146.50464 ,\n",
              "       147.29948 , 148.25485 , 149.42809 , 150.51468 , 151.35455 ,\n",
              "       151.84155 , 152.5286  , 153.29897 , 154.5198  , 155.8048  ,\n",
              "       156.88971 , 158.31546 , 159.76666 , 161.06578 , 162.10797 ,\n",
              "       162.8934  , 163.83174 , 164.68222 , 165.73291 , 166.89241 ,\n",
              "       167.99402 , 169.09758 , 170.05144 , 170.57672 , 170.42296 ,\n",
              "       169.82872 , 169.0189  , 168.35683 , 167.23262 , 165.74162 ,\n",
              "       163.92523 , 161.91087 , 160.01527 , 158.15543 , 156.3766  ,\n",
              "       154.9419  , 153.71078 , 152.99518 , 153.21191 , 153.12201 ,\n",
              "       153.04645 , 152.71742 , 152.12395 , 151.76518 , 151.78867 ,\n",
              "       151.76425 , 151.6507  , 151.29137 , 150.85066 , 150.48326 ,\n",
              "       150.01778 , 148.88019 , 147.0655  , 145.3688  , 144.18748 ,\n",
              "       143.44826 , 142.9784  , 142.26004 , 141.50575 , 140.6623  ,\n",
              "       139.78493 , 139.3783  , 138.88109 , 138.75774 , 138.9901  ,\n",
              "       139.44513 , 139.9732  , 140.85968 , 142.08492 , 143.68309 ,\n",
              "       145.1135  , 145.92679 , 147.27965 , 148.58725 , 149.52878 ,\n",
              "       149.65944 , 148.72478 , 147.16032 , 145.3583  , 143.59268 ,\n",
              "       141.57738 , 140.65988 , 140.71375 , 141.26329 , 142.26608 ,\n",
              "       143.3652  , 144.61967 , 145.91302 , 146.82687 , 147.63208 ,\n",
              "       148.36438 , 148.71419 ], dtype=float32)"
            ]
          },
          "metadata": {},
          "execution_count": 32
        }
      ]
    },
    {
      "cell_type": "code",
      "source": [
        "len(predictions)"
      ],
      "metadata": {
        "colab": {
          "base_uri": "https://localhost:8080/"
        },
        "id": "10GRig2hhV6X",
        "outputId": "b0a582ac-c4fa-47fe-b588-70d4cb0a45a8"
      },
      "execution_count": 33,
      "outputs": [
        {
          "output_type": "execute_result",
          "data": {
            "text/plain": [
              "537"
            ]
          },
          "metadata": {},
          "execution_count": 33
        }
      ]
    },
    {
      "cell_type": "code",
      "source": [
        "df_train = df.iloc[0:len(X_train)+60]\n",
        "df_train"
      ],
      "metadata": {
        "colab": {
          "base_uri": "https://localhost:8080/",
          "height": 455
        },
        "id": "OkFDXdmt3bBV",
        "outputId": "55705763-6849-4308-e362-c096d64a0b75"
      },
      "execution_count": 34,
      "outputs": [
        {
          "output_type": "execute_result",
          "data": {
            "text/plain": [
              "                  Open        High         Low       Close   Adj Close  \\\n",
              "Date                                                                     \n",
              "2012-01-03   14.621429   14.732143   14.607143   14.686786   12.519278   \n",
              "2012-01-04   14.642857   14.810000   14.617143   14.765714   12.586556   \n",
              "2012-01-05   14.819643   14.948214   14.738214   14.929643   12.726294   \n",
              "2012-01-06   14.991786   15.098214   14.972143   15.085714   12.859332   \n",
              "2012-01-09   15.196429   15.276786   15.048214   15.061786   12.838938   \n",
              "...                ...         ...         ...         ...         ...   \n",
              "2020-10-05  113.910004  116.650002  113.550003  116.500000  114.919807   \n",
              "2020-10-06  115.699997  116.120003  112.250000  113.160004  111.625122   \n",
              "2020-10-07  114.620003  115.550003  114.129997  115.080002  113.519081   \n",
              "2020-10-08  116.250000  116.400002  114.589996  114.970001  113.410568   \n",
              "2020-10-09  115.279999  117.000000  114.919998  116.970001  115.383453   \n",
              "\n",
              "               Volume  \n",
              "Date                   \n",
              "2012-01-03  302220800  \n",
              "2012-01-04  260022000  \n",
              "2012-01-05  271269600  \n",
              "2012-01-06  318292800  \n",
              "2012-01-09  394024400  \n",
              "...               ...  \n",
              "2020-10-05  106243800  \n",
              "2020-10-06  161498200  \n",
              "2020-10-07   96849000  \n",
              "2020-10-08   83477200  \n",
              "2020-10-09  100506900  \n",
              "\n",
              "[2208 rows x 6 columns]"
            ],
            "text/html": [
              "\n",
              "  <div id=\"df-09a0849c-2855-4994-a0c3-348939b10d22\">\n",
              "    <div class=\"colab-df-container\">\n",
              "      <div>\n",
              "<style scoped>\n",
              "    .dataframe tbody tr th:only-of-type {\n",
              "        vertical-align: middle;\n",
              "    }\n",
              "\n",
              "    .dataframe tbody tr th {\n",
              "        vertical-align: top;\n",
              "    }\n",
              "\n",
              "    .dataframe thead th {\n",
              "        text-align: right;\n",
              "    }\n",
              "</style>\n",
              "<table border=\"1\" class=\"dataframe\">\n",
              "  <thead>\n",
              "    <tr style=\"text-align: right;\">\n",
              "      <th></th>\n",
              "      <th>Open</th>\n",
              "      <th>High</th>\n",
              "      <th>Low</th>\n",
              "      <th>Close</th>\n",
              "      <th>Adj Close</th>\n",
              "      <th>Volume</th>\n",
              "    </tr>\n",
              "    <tr>\n",
              "      <th>Date</th>\n",
              "      <th></th>\n",
              "      <th></th>\n",
              "      <th></th>\n",
              "      <th></th>\n",
              "      <th></th>\n",
              "      <th></th>\n",
              "    </tr>\n",
              "  </thead>\n",
              "  <tbody>\n",
              "    <tr>\n",
              "      <th>2012-01-03</th>\n",
              "      <td>14.621429</td>\n",
              "      <td>14.732143</td>\n",
              "      <td>14.607143</td>\n",
              "      <td>14.686786</td>\n",
              "      <td>12.519278</td>\n",
              "      <td>302220800</td>\n",
              "    </tr>\n",
              "    <tr>\n",
              "      <th>2012-01-04</th>\n",
              "      <td>14.642857</td>\n",
              "      <td>14.810000</td>\n",
              "      <td>14.617143</td>\n",
              "      <td>14.765714</td>\n",
              "      <td>12.586556</td>\n",
              "      <td>260022000</td>\n",
              "    </tr>\n",
              "    <tr>\n",
              "      <th>2012-01-05</th>\n",
              "      <td>14.819643</td>\n",
              "      <td>14.948214</td>\n",
              "      <td>14.738214</td>\n",
              "      <td>14.929643</td>\n",
              "      <td>12.726294</td>\n",
              "      <td>271269600</td>\n",
              "    </tr>\n",
              "    <tr>\n",
              "      <th>2012-01-06</th>\n",
              "      <td>14.991786</td>\n",
              "      <td>15.098214</td>\n",
              "      <td>14.972143</td>\n",
              "      <td>15.085714</td>\n",
              "      <td>12.859332</td>\n",
              "      <td>318292800</td>\n",
              "    </tr>\n",
              "    <tr>\n",
              "      <th>2012-01-09</th>\n",
              "      <td>15.196429</td>\n",
              "      <td>15.276786</td>\n",
              "      <td>15.048214</td>\n",
              "      <td>15.061786</td>\n",
              "      <td>12.838938</td>\n",
              "      <td>394024400</td>\n",
              "    </tr>\n",
              "    <tr>\n",
              "      <th>...</th>\n",
              "      <td>...</td>\n",
              "      <td>...</td>\n",
              "      <td>...</td>\n",
              "      <td>...</td>\n",
              "      <td>...</td>\n",
              "      <td>...</td>\n",
              "    </tr>\n",
              "    <tr>\n",
              "      <th>2020-10-05</th>\n",
              "      <td>113.910004</td>\n",
              "      <td>116.650002</td>\n",
              "      <td>113.550003</td>\n",
              "      <td>116.500000</td>\n",
              "      <td>114.919807</td>\n",
              "      <td>106243800</td>\n",
              "    </tr>\n",
              "    <tr>\n",
              "      <th>2020-10-06</th>\n",
              "      <td>115.699997</td>\n",
              "      <td>116.120003</td>\n",
              "      <td>112.250000</td>\n",
              "      <td>113.160004</td>\n",
              "      <td>111.625122</td>\n",
              "      <td>161498200</td>\n",
              "    </tr>\n",
              "    <tr>\n",
              "      <th>2020-10-07</th>\n",
              "      <td>114.620003</td>\n",
              "      <td>115.550003</td>\n",
              "      <td>114.129997</td>\n",
              "      <td>115.080002</td>\n",
              "      <td>113.519081</td>\n",
              "      <td>96849000</td>\n",
              "    </tr>\n",
              "    <tr>\n",
              "      <th>2020-10-08</th>\n",
              "      <td>116.250000</td>\n",
              "      <td>116.400002</td>\n",
              "      <td>114.589996</td>\n",
              "      <td>114.970001</td>\n",
              "      <td>113.410568</td>\n",
              "      <td>83477200</td>\n",
              "    </tr>\n",
              "    <tr>\n",
              "      <th>2020-10-09</th>\n",
              "      <td>115.279999</td>\n",
              "      <td>117.000000</td>\n",
              "      <td>114.919998</td>\n",
              "      <td>116.970001</td>\n",
              "      <td>115.383453</td>\n",
              "      <td>100506900</td>\n",
              "    </tr>\n",
              "  </tbody>\n",
              "</table>\n",
              "<p>2208 rows × 6 columns</p>\n",
              "</div>\n",
              "      <button class=\"colab-df-convert\" onclick=\"convertToInteractive('df-09a0849c-2855-4994-a0c3-348939b10d22')\"\n",
              "              title=\"Convert this dataframe to an interactive table.\"\n",
              "              style=\"display:none;\">\n",
              "        \n",
              "  <svg xmlns=\"http://www.w3.org/2000/svg\" height=\"24px\"viewBox=\"0 0 24 24\"\n",
              "       width=\"24px\">\n",
              "    <path d=\"M0 0h24v24H0V0z\" fill=\"none\"/>\n",
              "    <path d=\"M18.56 5.44l.94 2.06.94-2.06 2.06-.94-2.06-.94-.94-2.06-.94 2.06-2.06.94zm-11 1L8.5 8.5l.94-2.06 2.06-.94-2.06-.94L8.5 2.5l-.94 2.06-2.06.94zm10 10l.94 2.06.94-2.06 2.06-.94-2.06-.94-.94-2.06-.94 2.06-2.06.94z\"/><path d=\"M17.41 7.96l-1.37-1.37c-.4-.4-.92-.59-1.43-.59-.52 0-1.04.2-1.43.59L10.3 9.45l-7.72 7.72c-.78.78-.78 2.05 0 2.83L4 21.41c.39.39.9.59 1.41.59.51 0 1.02-.2 1.41-.59l7.78-7.78 2.81-2.81c.8-.78.8-2.07 0-2.86zM5.41 20L4 18.59l7.72-7.72 1.47 1.35L5.41 20z\"/>\n",
              "  </svg>\n",
              "      </button>\n",
              "      \n",
              "  <style>\n",
              "    .colab-df-container {\n",
              "      display:flex;\n",
              "      flex-wrap:wrap;\n",
              "      gap: 12px;\n",
              "    }\n",
              "\n",
              "    .colab-df-convert {\n",
              "      background-color: #E8F0FE;\n",
              "      border: none;\n",
              "      border-radius: 50%;\n",
              "      cursor: pointer;\n",
              "      display: none;\n",
              "      fill: #1967D2;\n",
              "      height: 32px;\n",
              "      padding: 0 0 0 0;\n",
              "      width: 32px;\n",
              "    }\n",
              "\n",
              "    .colab-df-convert:hover {\n",
              "      background-color: #E2EBFA;\n",
              "      box-shadow: 0px 1px 2px rgba(60, 64, 67, 0.3), 0px 1px 3px 1px rgba(60, 64, 67, 0.15);\n",
              "      fill: #174EA6;\n",
              "    }\n",
              "\n",
              "    [theme=dark] .colab-df-convert {\n",
              "      background-color: #3B4455;\n",
              "      fill: #D2E3FC;\n",
              "    }\n",
              "\n",
              "    [theme=dark] .colab-df-convert:hover {\n",
              "      background-color: #434B5C;\n",
              "      box-shadow: 0px 1px 3px 1px rgba(0, 0, 0, 0.15);\n",
              "      filter: drop-shadow(0px 1px 2px rgba(0, 0, 0, 0.3));\n",
              "      fill: #FFFFFF;\n",
              "    }\n",
              "  </style>\n",
              "\n",
              "      <script>\n",
              "        const buttonEl =\n",
              "          document.querySelector('#df-09a0849c-2855-4994-a0c3-348939b10d22 button.colab-df-convert');\n",
              "        buttonEl.style.display =\n",
              "          google.colab.kernel.accessAllowed ? 'block' : 'none';\n",
              "\n",
              "        async function convertToInteractive(key) {\n",
              "          const element = document.querySelector('#df-09a0849c-2855-4994-a0c3-348939b10d22');\n",
              "          const dataTable =\n",
              "            await google.colab.kernel.invokeFunction('convertToInteractive',\n",
              "                                                     [key], {});\n",
              "          if (!dataTable) return;\n",
              "\n",
              "          const docLinkHtml = 'Like what you see? Visit the ' +\n",
              "            '<a target=\"_blank\" href=https://colab.research.google.com/notebooks/data_table.ipynb>data table notebook</a>'\n",
              "            + ' to learn more about interactive tables.';\n",
              "          element.innerHTML = '';\n",
              "          dataTable['output_type'] = 'display_data';\n",
              "          await google.colab.output.renderOutput(dataTable, element);\n",
              "          const docLink = document.createElement('div');\n",
              "          docLink.innerHTML = docLinkHtml;\n",
              "          element.appendChild(docLink);\n",
              "        }\n",
              "      </script>\n",
              "    </div>\n",
              "  </div>\n",
              "  "
            ]
          },
          "metadata": {},
          "execution_count": 34
        }
      ]
    },
    {
      "cell_type": "code",
      "source": [
        "df_test = df.iloc[-len(X_test):]\n",
        "df_test"
      ],
      "metadata": {
        "colab": {
          "base_uri": "https://localhost:8080/",
          "height": 455
        },
        "id": "fDq9Dojm4VyN",
        "outputId": "8be84339-7baa-4c20-8625-c056edd6eec0"
      },
      "execution_count": 35,
      "outputs": [
        {
          "output_type": "execute_result",
          "data": {
            "text/plain": [
              "                  Open        High         Low       Close   Adj Close  \\\n",
              "Date                                                                     \n",
              "2020-10-13  125.269997  125.389999  119.650002  121.099998  119.457428   \n",
              "2020-10-14  121.000000  123.029999  119.620003  121.190002  119.546196   \n",
              "2020-10-15  118.720001  121.199997  118.150002  120.709999  119.072723   \n",
              "2020-10-16  121.279999  121.550003  118.809998  119.019997  117.405640   \n",
              "2020-10-19  119.959999  120.419998  115.660004  115.980003  114.406883   \n",
              "...                ...         ...         ...         ...         ...   \n",
              "2022-11-22  148.130005  150.419998  146.929993  150.179993  150.179993   \n",
              "2022-11-23  149.449997  151.830002  149.339996  151.070007  151.070007   \n",
              "2022-11-25  148.309998  148.880005  147.119995  148.110001  148.110001   \n",
              "2022-11-28  145.139999  146.639999  143.380005  144.220001  144.220001   \n",
              "2022-11-29  144.289993  144.809998  140.350006  141.169998  141.169998   \n",
              "\n",
              "               Volume  \n",
              "Date                   \n",
              "2020-10-13  262330500  \n",
              "2020-10-14  150712000  \n",
              "2020-10-15  112559200  \n",
              "2020-10-16  115393800  \n",
              "2020-10-19  120639300  \n",
              "...               ...  \n",
              "2022-11-22   51804100  \n",
              "2022-11-23   58301400  \n",
              "2022-11-25   35195900  \n",
              "2022-11-28   69246000  \n",
              "2022-11-29   83763800  \n",
              "\n",
              "[537 rows x 6 columns]"
            ],
            "text/html": [
              "\n",
              "  <div id=\"df-a538ae0e-c1b6-478f-94e4-f0651edf86f3\">\n",
              "    <div class=\"colab-df-container\">\n",
              "      <div>\n",
              "<style scoped>\n",
              "    .dataframe tbody tr th:only-of-type {\n",
              "        vertical-align: middle;\n",
              "    }\n",
              "\n",
              "    .dataframe tbody tr th {\n",
              "        vertical-align: top;\n",
              "    }\n",
              "\n",
              "    .dataframe thead th {\n",
              "        text-align: right;\n",
              "    }\n",
              "</style>\n",
              "<table border=\"1\" class=\"dataframe\">\n",
              "  <thead>\n",
              "    <tr style=\"text-align: right;\">\n",
              "      <th></th>\n",
              "      <th>Open</th>\n",
              "      <th>High</th>\n",
              "      <th>Low</th>\n",
              "      <th>Close</th>\n",
              "      <th>Adj Close</th>\n",
              "      <th>Volume</th>\n",
              "    </tr>\n",
              "    <tr>\n",
              "      <th>Date</th>\n",
              "      <th></th>\n",
              "      <th></th>\n",
              "      <th></th>\n",
              "      <th></th>\n",
              "      <th></th>\n",
              "      <th></th>\n",
              "    </tr>\n",
              "  </thead>\n",
              "  <tbody>\n",
              "    <tr>\n",
              "      <th>2020-10-13</th>\n",
              "      <td>125.269997</td>\n",
              "      <td>125.389999</td>\n",
              "      <td>119.650002</td>\n",
              "      <td>121.099998</td>\n",
              "      <td>119.457428</td>\n",
              "      <td>262330500</td>\n",
              "    </tr>\n",
              "    <tr>\n",
              "      <th>2020-10-14</th>\n",
              "      <td>121.000000</td>\n",
              "      <td>123.029999</td>\n",
              "      <td>119.620003</td>\n",
              "      <td>121.190002</td>\n",
              "      <td>119.546196</td>\n",
              "      <td>150712000</td>\n",
              "    </tr>\n",
              "    <tr>\n",
              "      <th>2020-10-15</th>\n",
              "      <td>118.720001</td>\n",
              "      <td>121.199997</td>\n",
              "      <td>118.150002</td>\n",
              "      <td>120.709999</td>\n",
              "      <td>119.072723</td>\n",
              "      <td>112559200</td>\n",
              "    </tr>\n",
              "    <tr>\n",
              "      <th>2020-10-16</th>\n",
              "      <td>121.279999</td>\n",
              "      <td>121.550003</td>\n",
              "      <td>118.809998</td>\n",
              "      <td>119.019997</td>\n",
              "      <td>117.405640</td>\n",
              "      <td>115393800</td>\n",
              "    </tr>\n",
              "    <tr>\n",
              "      <th>2020-10-19</th>\n",
              "      <td>119.959999</td>\n",
              "      <td>120.419998</td>\n",
              "      <td>115.660004</td>\n",
              "      <td>115.980003</td>\n",
              "      <td>114.406883</td>\n",
              "      <td>120639300</td>\n",
              "    </tr>\n",
              "    <tr>\n",
              "      <th>...</th>\n",
              "      <td>...</td>\n",
              "      <td>...</td>\n",
              "      <td>...</td>\n",
              "      <td>...</td>\n",
              "      <td>...</td>\n",
              "      <td>...</td>\n",
              "    </tr>\n",
              "    <tr>\n",
              "      <th>2022-11-22</th>\n",
              "      <td>148.130005</td>\n",
              "      <td>150.419998</td>\n",
              "      <td>146.929993</td>\n",
              "      <td>150.179993</td>\n",
              "      <td>150.179993</td>\n",
              "      <td>51804100</td>\n",
              "    </tr>\n",
              "    <tr>\n",
              "      <th>2022-11-23</th>\n",
              "      <td>149.449997</td>\n",
              "      <td>151.830002</td>\n",
              "      <td>149.339996</td>\n",
              "      <td>151.070007</td>\n",
              "      <td>151.070007</td>\n",
              "      <td>58301400</td>\n",
              "    </tr>\n",
              "    <tr>\n",
              "      <th>2022-11-25</th>\n",
              "      <td>148.309998</td>\n",
              "      <td>148.880005</td>\n",
              "      <td>147.119995</td>\n",
              "      <td>148.110001</td>\n",
              "      <td>148.110001</td>\n",
              "      <td>35195900</td>\n",
              "    </tr>\n",
              "    <tr>\n",
              "      <th>2022-11-28</th>\n",
              "      <td>145.139999</td>\n",
              "      <td>146.639999</td>\n",
              "      <td>143.380005</td>\n",
              "      <td>144.220001</td>\n",
              "      <td>144.220001</td>\n",
              "      <td>69246000</td>\n",
              "    </tr>\n",
              "    <tr>\n",
              "      <th>2022-11-29</th>\n",
              "      <td>144.289993</td>\n",
              "      <td>144.809998</td>\n",
              "      <td>140.350006</td>\n",
              "      <td>141.169998</td>\n",
              "      <td>141.169998</td>\n",
              "      <td>83763800</td>\n",
              "    </tr>\n",
              "  </tbody>\n",
              "</table>\n",
              "<p>537 rows × 6 columns</p>\n",
              "</div>\n",
              "      <button class=\"colab-df-convert\" onclick=\"convertToInteractive('df-a538ae0e-c1b6-478f-94e4-f0651edf86f3')\"\n",
              "              title=\"Convert this dataframe to an interactive table.\"\n",
              "              style=\"display:none;\">\n",
              "        \n",
              "  <svg xmlns=\"http://www.w3.org/2000/svg\" height=\"24px\"viewBox=\"0 0 24 24\"\n",
              "       width=\"24px\">\n",
              "    <path d=\"M0 0h24v24H0V0z\" fill=\"none\"/>\n",
              "    <path d=\"M18.56 5.44l.94 2.06.94-2.06 2.06-.94-2.06-.94-.94-2.06-.94 2.06-2.06.94zm-11 1L8.5 8.5l.94-2.06 2.06-.94-2.06-.94L8.5 2.5l-.94 2.06-2.06.94zm10 10l.94 2.06.94-2.06 2.06-.94-2.06-.94-.94-2.06-.94 2.06-2.06.94z\"/><path d=\"M17.41 7.96l-1.37-1.37c-.4-.4-.92-.59-1.43-.59-.52 0-1.04.2-1.43.59L10.3 9.45l-7.72 7.72c-.78.78-.78 2.05 0 2.83L4 21.41c.39.39.9.59 1.41.59.51 0 1.02-.2 1.41-.59l7.78-7.78 2.81-2.81c.8-.78.8-2.07 0-2.86zM5.41 20L4 18.59l7.72-7.72 1.47 1.35L5.41 20z\"/>\n",
              "  </svg>\n",
              "      </button>\n",
              "      \n",
              "  <style>\n",
              "    .colab-df-container {\n",
              "      display:flex;\n",
              "      flex-wrap:wrap;\n",
              "      gap: 12px;\n",
              "    }\n",
              "\n",
              "    .colab-df-convert {\n",
              "      background-color: #E8F0FE;\n",
              "      border: none;\n",
              "      border-radius: 50%;\n",
              "      cursor: pointer;\n",
              "      display: none;\n",
              "      fill: #1967D2;\n",
              "      height: 32px;\n",
              "      padding: 0 0 0 0;\n",
              "      width: 32px;\n",
              "    }\n",
              "\n",
              "    .colab-df-convert:hover {\n",
              "      background-color: #E2EBFA;\n",
              "      box-shadow: 0px 1px 2px rgba(60, 64, 67, 0.3), 0px 1px 3px 1px rgba(60, 64, 67, 0.15);\n",
              "      fill: #174EA6;\n",
              "    }\n",
              "\n",
              "    [theme=dark] .colab-df-convert {\n",
              "      background-color: #3B4455;\n",
              "      fill: #D2E3FC;\n",
              "    }\n",
              "\n",
              "    [theme=dark] .colab-df-convert:hover {\n",
              "      background-color: #434B5C;\n",
              "      box-shadow: 0px 1px 3px 1px rgba(0, 0, 0, 0.15);\n",
              "      filter: drop-shadow(0px 1px 2px rgba(0, 0, 0, 0.3));\n",
              "      fill: #FFFFFF;\n",
              "    }\n",
              "  </style>\n",
              "\n",
              "      <script>\n",
              "        const buttonEl =\n",
              "          document.querySelector('#df-a538ae0e-c1b6-478f-94e4-f0651edf86f3 button.colab-df-convert');\n",
              "        buttonEl.style.display =\n",
              "          google.colab.kernel.accessAllowed ? 'block' : 'none';\n",
              "\n",
              "        async function convertToInteractive(key) {\n",
              "          const element = document.querySelector('#df-a538ae0e-c1b6-478f-94e4-f0651edf86f3');\n",
              "          const dataTable =\n",
              "            await google.colab.kernel.invokeFunction('convertToInteractive',\n",
              "                                                     [key], {});\n",
              "          if (!dataTable) return;\n",
              "\n",
              "          const docLinkHtml = 'Like what you see? Visit the ' +\n",
              "            '<a target=\"_blank\" href=https://colab.research.google.com/notebooks/data_table.ipynb>data table notebook</a>'\n",
              "            + ' to learn more about interactive tables.';\n",
              "          element.innerHTML = '';\n",
              "          dataTable['output_type'] = 'display_data';\n",
              "          await google.colab.output.renderOutput(dataTable, element);\n",
              "          const docLink = document.createElement('div');\n",
              "          docLink.innerHTML = docLinkHtml;\n",
              "          element.appendChild(docLink);\n",
              "        }\n",
              "      </script>\n",
              "    </div>\n",
              "  </div>\n",
              "  "
            ]
          },
          "metadata": {},
          "execution_count": 35
        }
      ]
    },
    {
      "cell_type": "code",
      "source": [
        "df_pred = pd.DataFrame({\n",
        "    'Date' : df_test.index,\n",
        "    'Close' : predictions\n",
        "})"
      ],
      "metadata": {
        "id": "GTh0heNN4knd"
      },
      "execution_count": 36,
      "outputs": []
    },
    {
      "cell_type": "code",
      "source": [
        "df_pred = df_pred.set_index('Date')"
      ],
      "metadata": {
        "id": "REZKV_ex5hjv"
      },
      "execution_count": 37,
      "outputs": []
    },
    {
      "cell_type": "code",
      "source": [
        "df_pred"
      ],
      "metadata": {
        "colab": {
          "base_uri": "https://localhost:8080/",
          "height": 455
        },
        "id": "7RcuJG0Q6RZW",
        "outputId": "46dc2a1c-60da-40dc-96d3-501a9ff601eb"
      },
      "execution_count": 38,
      "outputs": [
        {
          "output_type": "execute_result",
          "data": {
            "text/plain": [
              "                 Close\n",
              "Date                  \n",
              "2020-10-13  115.243820\n",
              "2020-10-14  116.341034\n",
              "2020-10-15  117.459358\n",
              "2020-10-16  118.530998\n",
              "2020-10-19  119.444344\n",
              "...                ...\n",
              "2022-11-22  145.913025\n",
              "2022-11-23  146.826874\n",
              "2022-11-25  147.632080\n",
              "2022-11-28  148.364380\n",
              "2022-11-29  148.714188\n",
              "\n",
              "[537 rows x 1 columns]"
            ],
            "text/html": [
              "\n",
              "  <div id=\"df-f0cba52d-d213-42a6-966f-69b031f8e071\">\n",
              "    <div class=\"colab-df-container\">\n",
              "      <div>\n",
              "<style scoped>\n",
              "    .dataframe tbody tr th:only-of-type {\n",
              "        vertical-align: middle;\n",
              "    }\n",
              "\n",
              "    .dataframe tbody tr th {\n",
              "        vertical-align: top;\n",
              "    }\n",
              "\n",
              "    .dataframe thead th {\n",
              "        text-align: right;\n",
              "    }\n",
              "</style>\n",
              "<table border=\"1\" class=\"dataframe\">\n",
              "  <thead>\n",
              "    <tr style=\"text-align: right;\">\n",
              "      <th></th>\n",
              "      <th>Close</th>\n",
              "    </tr>\n",
              "    <tr>\n",
              "      <th>Date</th>\n",
              "      <th></th>\n",
              "    </tr>\n",
              "  </thead>\n",
              "  <tbody>\n",
              "    <tr>\n",
              "      <th>2020-10-13</th>\n",
              "      <td>115.243820</td>\n",
              "    </tr>\n",
              "    <tr>\n",
              "      <th>2020-10-14</th>\n",
              "      <td>116.341034</td>\n",
              "    </tr>\n",
              "    <tr>\n",
              "      <th>2020-10-15</th>\n",
              "      <td>117.459358</td>\n",
              "    </tr>\n",
              "    <tr>\n",
              "      <th>2020-10-16</th>\n",
              "      <td>118.530998</td>\n",
              "    </tr>\n",
              "    <tr>\n",
              "      <th>2020-10-19</th>\n",
              "      <td>119.444344</td>\n",
              "    </tr>\n",
              "    <tr>\n",
              "      <th>...</th>\n",
              "      <td>...</td>\n",
              "    </tr>\n",
              "    <tr>\n",
              "      <th>2022-11-22</th>\n",
              "      <td>145.913025</td>\n",
              "    </tr>\n",
              "    <tr>\n",
              "      <th>2022-11-23</th>\n",
              "      <td>146.826874</td>\n",
              "    </tr>\n",
              "    <tr>\n",
              "      <th>2022-11-25</th>\n",
              "      <td>147.632080</td>\n",
              "    </tr>\n",
              "    <tr>\n",
              "      <th>2022-11-28</th>\n",
              "      <td>148.364380</td>\n",
              "    </tr>\n",
              "    <tr>\n",
              "      <th>2022-11-29</th>\n",
              "      <td>148.714188</td>\n",
              "    </tr>\n",
              "  </tbody>\n",
              "</table>\n",
              "<p>537 rows × 1 columns</p>\n",
              "</div>\n",
              "      <button class=\"colab-df-convert\" onclick=\"convertToInteractive('df-f0cba52d-d213-42a6-966f-69b031f8e071')\"\n",
              "              title=\"Convert this dataframe to an interactive table.\"\n",
              "              style=\"display:none;\">\n",
              "        \n",
              "  <svg xmlns=\"http://www.w3.org/2000/svg\" height=\"24px\"viewBox=\"0 0 24 24\"\n",
              "       width=\"24px\">\n",
              "    <path d=\"M0 0h24v24H0V0z\" fill=\"none\"/>\n",
              "    <path d=\"M18.56 5.44l.94 2.06.94-2.06 2.06-.94-2.06-.94-.94-2.06-.94 2.06-2.06.94zm-11 1L8.5 8.5l.94-2.06 2.06-.94-2.06-.94L8.5 2.5l-.94 2.06-2.06.94zm10 10l.94 2.06.94-2.06 2.06-.94-2.06-.94-.94-2.06-.94 2.06-2.06.94z\"/><path d=\"M17.41 7.96l-1.37-1.37c-.4-.4-.92-.59-1.43-.59-.52 0-1.04.2-1.43.59L10.3 9.45l-7.72 7.72c-.78.78-.78 2.05 0 2.83L4 21.41c.39.39.9.59 1.41.59.51 0 1.02-.2 1.41-.59l7.78-7.78 2.81-2.81c.8-.78.8-2.07 0-2.86zM5.41 20L4 18.59l7.72-7.72 1.47 1.35L5.41 20z\"/>\n",
              "  </svg>\n",
              "      </button>\n",
              "      \n",
              "  <style>\n",
              "    .colab-df-container {\n",
              "      display:flex;\n",
              "      flex-wrap:wrap;\n",
              "      gap: 12px;\n",
              "    }\n",
              "\n",
              "    .colab-df-convert {\n",
              "      background-color: #E8F0FE;\n",
              "      border: none;\n",
              "      border-radius: 50%;\n",
              "      cursor: pointer;\n",
              "      display: none;\n",
              "      fill: #1967D2;\n",
              "      height: 32px;\n",
              "      padding: 0 0 0 0;\n",
              "      width: 32px;\n",
              "    }\n",
              "\n",
              "    .colab-df-convert:hover {\n",
              "      background-color: #E2EBFA;\n",
              "      box-shadow: 0px 1px 2px rgba(60, 64, 67, 0.3), 0px 1px 3px 1px rgba(60, 64, 67, 0.15);\n",
              "      fill: #174EA6;\n",
              "    }\n",
              "\n",
              "    [theme=dark] .colab-df-convert {\n",
              "      background-color: #3B4455;\n",
              "      fill: #D2E3FC;\n",
              "    }\n",
              "\n",
              "    [theme=dark] .colab-df-convert:hover {\n",
              "      background-color: #434B5C;\n",
              "      box-shadow: 0px 1px 3px 1px rgba(0, 0, 0, 0.15);\n",
              "      filter: drop-shadow(0px 1px 2px rgba(0, 0, 0, 0.3));\n",
              "      fill: #FFFFFF;\n",
              "    }\n",
              "  </style>\n",
              "\n",
              "      <script>\n",
              "        const buttonEl =\n",
              "          document.querySelector('#df-f0cba52d-d213-42a6-966f-69b031f8e071 button.colab-df-convert');\n",
              "        buttonEl.style.display =\n",
              "          google.colab.kernel.accessAllowed ? 'block' : 'none';\n",
              "\n",
              "        async function convertToInteractive(key) {\n",
              "          const element = document.querySelector('#df-f0cba52d-d213-42a6-966f-69b031f8e071');\n",
              "          const dataTable =\n",
              "            await google.colab.kernel.invokeFunction('convertToInteractive',\n",
              "                                                     [key], {});\n",
              "          if (!dataTable) return;\n",
              "\n",
              "          const docLinkHtml = 'Like what you see? Visit the ' +\n",
              "            '<a target=\"_blank\" href=https://colab.research.google.com/notebooks/data_table.ipynb>data table notebook</a>'\n",
              "            + ' to learn more about interactive tables.';\n",
              "          element.innerHTML = '';\n",
              "          dataTable['output_type'] = 'display_data';\n",
              "          await google.colab.output.renderOutput(dataTable, element);\n",
              "          const docLink = document.createElement('div');\n",
              "          docLink.innerHTML = docLinkHtml;\n",
              "          element.appendChild(docLink);\n",
              "        }\n",
              "      </script>\n",
              "    </div>\n",
              "  </div>\n",
              "  "
            ]
          },
          "metadata": {},
          "execution_count": 38
        }
      ]
    },
    {
      "cell_type": "code",
      "source": [
        "plt.figure(figsize =(16,8))\n",
        "plt.plot(df_test['Close'], color='red')\n",
        "plt.plot(df_train['Close'], color='blue')\n",
        "plt.plot(df_pred['Close'], color='black')\n",
        "plt.title('Model', fontsize=18)\n",
        "plt.xlabel('Year', fontsize=15)\n",
        "plt.ylabel('Close Price ($)', fontsize=15)\n",
        "plt.legend(['val', 'train', 'pred'])\n",
        "plt.show()"
      ],
      "metadata": {
        "colab": {
          "base_uri": "https://localhost:8080/",
          "height": 522
        },
        "id": "5adTcG4a3kgp",
        "outputId": "a8e08aba-1a4c-4c2a-8c89-42fdcfe1669c"
      },
      "execution_count": 106,
      "outputs": [
        {
          "output_type": "display_data",
          "data": {
            "text/plain": [
              "<Figure size 1152x576 with 1 Axes>"
            ],
            "image/png": "[encoded data removed]"
          },
          "metadata": {
            "needs_background": "light"
          }
        }
      ]
    },
    {
      "cell_type": "markdown",
      "source": [
        "# **Predictions for Future**"
      ],
      "metadata": {
        "id": "H1neLIBtuRUg"
      }
    },
    {
      "cell_type": "code",
      "source": [
        "model.predict(scaled[-60:].reshape(1, 60, 1))[0][0]"
      ],
      "metadata": {
        "colab": {
          "base_uri": "https://localhost:8080/"
        },
        "id": "ANgw6BS9MO0o",
        "outputId": "19a82040-d902-4d83-b934-a230ea626249"
      },
      "execution_count": 72,
      "outputs": [
        {
          "output_type": "stream",
          "name": "stdout",
          "text": [
            "1/1 [==============================] - 0s 24ms/step\n"
          ]
        },
        {
          "output_type": "execute_result",
          "data": {
            "text/plain": [
              "0.7950025"
            ]
          },
          "metadata": {},
          "execution_count": 72
        }
      ]
    },
    {
      "cell_type": "code",
      "source": [
        "arr = scaled[-60:]"
      ],
      "metadata": {
        "id": "4TaSc6NHRaK2"
      },
      "execution_count": 69,
      "outputs": []
    },
    {
      "cell_type": "code",
      "source": [
        "data_new = arr.reshape(-1).tolist()\n",
        "\n",
        "#num of predictions\n",
        "x=1000\n",
        "\n",
        "for i in range(x):\n",
        "  data_new.append(model.predict(np.array(data_new[-60:]).reshape(-1,1).reshape(1, 60, 1), verbose=0)[0][0])"
      ],
      "metadata": {
        "id": "bagj87fDMV0e"
      },
      "execution_count": 141,
      "outputs": []
    },
    {
      "cell_type": "code",
      "source": [
        "pred_new = scaler.inverse_transform(np.array(data_new).reshape(-1,1)).reshape(-1)"
      ],
      "metadata": {
        "id": "CRG0dXhyUi-s"
      },
      "execution_count": 142,
      "outputs": []
    },
    {
      "cell_type": "code",
      "source": [
        "pred_new = pred_new[-x:]"
      ],
      "metadata": {
        "id": "ImbopIfVWfH-"
      },
      "execution_count": 143,
      "outputs": []
    },
    {
      "cell_type": "code",
      "source": [
        "pred_new"
      ],
      "metadata": {
        "colab": {
          "base_uri": "https://localhost:8080/"
        },
        "id": "tZU6FqTGZ2uN",
        "outputId": "0c9c9b60-d6f7-4dc2-c932-b6cddd148999"
      },
      "execution_count": 144,
      "outputs": [
        {
          "output_type": "execute_result",
          "data": {
            "text/plain": [
              "array([147.55760671, 146.91481627, 146.38621308, 145.93249928,\n",
              "       145.52823089, 145.15573739, 144.80283774, 144.4618086 ,\n",
              "       144.1279218 , 143.79838251, 143.47192855, 143.14794886,\n",
              "       142.82634328, 142.50736222, 142.1912361 , 141.87838564,\n",
              "       141.56914141, 141.26367371, 140.96228304, 140.66514973,\n",
              "       140.37242404, 140.08421615, 139.80056613, 139.52150404,\n",
              "       139.24701986, 138.97718371, 138.71185534, 138.45107484,\n",
              "       138.19482215, 137.94297708, 137.69548953, 137.45230943,\n",
              "       137.2133366 , 136.97852094, 136.74781239, 136.5210807 ,\n",
              "       136.29828581, 136.07931754, 135.86408571, 135.65258033,\n",
              "       135.44463109, 135.24022798, 135.0392608 , 134.84162938,\n",
              "       134.64728364, 134.45620354, 134.26824885, 134.08335944,\n",
              "       133.90153533, 133.7226463 , 133.54662221, 133.373423  ,\n",
              "       133.20296853, 133.03517867, 132.87006343, 132.70749258,\n",
              "       132.54746613, 132.38987388, 132.23470582, 132.08186178,\n",
              "       131.93133173, 131.78308563, 131.63704334, 131.49315477,\n",
              "       131.3514099 , 131.21171858, 131.07406077, 130.93837637,\n",
              "       130.80467539, 130.67288772, 130.54296328, 130.41487199,\n",
              "       130.28855377, 130.16403867, 130.04122651, 129.9201273 ,\n",
              "       129.80068095, 129.68288746, 129.5666767 , 129.45201863,\n",
              "       129.33892325, 129.2273505 , 129.11724029, 129.00861263,\n",
              "       128.90138739, 128.79558461, 128.69116422, 128.58807613,\n",
              "       128.4863504 , 128.3859169 , 128.28676561, 128.1888765 ,\n",
              "       128.09225959, 127.99683474, 127.90260195, 127.80957124,\n",
              "       127.71769251, 127.62694575, 127.53732092, 127.44877795,\n",
              "       127.36136695, 127.27498772, 127.1896503 , 127.10538473,\n",
              "       127.02210085, 126.93980869, 126.85850824, 126.77818949,\n",
              "       126.69881236, 126.62038688, 126.54286295, 126.4662506 ,\n",
              "       126.39054982, 126.31573057, 126.24174276, 126.16862644,\n",
              "       126.09637162, 126.02491818, 125.95429618, 125.8844956 ,\n",
              "       125.81546635, 125.74721845, 125.67972184, 125.61301661,\n",
              "       125.54704263, 125.48178991, 125.41727846, 125.35348826,\n",
              "       125.29040929, 125.22800148, 125.16629488, 125.10528949,\n",
              "       125.04490517, 124.98520203, 124.92612998, 124.86772909,\n",
              "       124.80991923, 124.75274045, 124.69617272, 124.64022607,\n",
              "       124.58489048, 124.53011586, 124.47593225, 124.4222996 ,\n",
              "       124.36925797, 124.3167773 , 124.26482756, 124.21343878,\n",
              "       124.16257091, 124.11224397, 124.06242791, 124.01314276,\n",
              "       123.96436851, 123.91610513, 123.86830255, 123.82100083,\n",
              "       123.77421   , 123.72787996, 123.68203076, 123.63663233,\n",
              "       123.5916947 , 123.54719783, 123.50317177, 123.45959649,\n",
              "       123.41644194, 123.37374819, 123.33146514, 123.28959281,\n",
              "       123.2481412 , 123.20709028, 123.16645007, 123.12624061,\n",
              "       123.08640178, 123.04696365, 123.00790618, 122.96923938,\n",
              "       122.93094322, 122.89301771, 122.85548286, 122.81829863,\n",
              "       122.78147501, 122.74501202, 122.70888962, 122.67315789,\n",
              "       122.6377367 , 122.60263606, 122.56791608, 122.53349662,\n",
              "       122.49941775, 122.46566945, 122.43225172, 122.39911447,\n",
              "       122.36631781, 122.33383169, 122.30165611, 122.26979106,\n",
              "       122.23819648, 122.20691243, 122.17594894, 122.14523589,\n",
              "       122.11483336, 122.0847514 , 122.05487979, 122.02530871,\n",
              "       121.99603814, 121.96703804, 121.93826834, 121.90979916,\n",
              "       121.88159043, 121.85364215, 121.82593428, 121.79848686,\n",
              "       121.77128988, 121.74435335, 121.71767726, 121.69122156,\n",
              "       121.66500627, 121.63904142, 121.61330696, 121.58782293,\n",
              "       121.56255929, 121.53753606, 121.51270316, 121.48814073,\n",
              "       121.46376863, 121.43965697, 121.41570559, 121.39199463,\n",
              "       121.36851407, 121.34523385, 121.32215398, 121.29928447,\n",
              "       121.27662533, 121.25418656, 121.23191809, 121.20985999,\n",
              "       121.18801225, 121.1663348 , 121.14486771, 121.12357092,\n",
              "       121.10248449, 121.08158839, 121.06086259, 121.0403171 ,\n",
              "       121.0199419 , 120.99978708, 120.9797725 , 120.95994826,\n",
              "       120.9402943 , 120.92082066, 120.90153735, 120.88237424,\n",
              "       120.86341149, 120.84458897, 120.82594676, 120.80749489,\n",
              "       120.7891532 , 120.77100184, 120.75300075, 120.73514991,\n",
              "       120.71745935, 120.69992906, 120.68254904, 120.66531927,\n",
              "       120.64822975, 120.63129049, 120.61448145, 120.59785272,\n",
              "       120.58135422, 120.56498594, 120.54875791, 120.53268013,\n",
              "       120.51673258, 120.50092528, 120.48526823, 120.46973139,\n",
              "       120.45433479, 120.43904838, 120.42390222, 120.40889629,\n",
              "       120.39401058, 120.3792651 , 120.36460979, 120.35012476,\n",
              "       120.3357299 , 120.32144522, 120.30733084, 120.29330661,\n",
              "       120.27940259, 120.26560876, 120.25194515, 120.23839174,\n",
              "       120.22496855, 120.2116255 , 120.19842269, 120.18533007,\n",
              "       120.17232761, 120.15944536, 120.14667329, 120.13401142,\n",
              "       120.12144972, 120.10900823, 120.09664687, 120.08439571,\n",
              "       120.07225473, 120.06022395, 120.04826329, 120.03642283,\n",
              "       120.02466252, 120.01304244, 120.00149249, 119.99004271,\n",
              "       119.97867307, 119.96741362, 119.9562343 , 119.94516518,\n",
              "       119.93419623, 119.92330742, 119.91247871, 119.90178023,\n",
              "       119.89115187, 119.88061367, 119.87017563, 119.85981774,\n",
              "       119.84951995, 119.83935238, 119.82923491, 119.8192176 ,\n",
              "       119.80927042, 119.79940337, 119.7896365 , 119.77994976,\n",
              "       119.77031312, 119.76077664, 119.75133032, 119.74192407,\n",
              "       119.73263803, 119.72339206, 119.71424626, 119.7051806 ,\n",
              "       119.69616502, 119.68722959, 119.67839432, 119.66958911,\n",
              "       119.66088407, 119.65220909, 119.64365431, 119.63516965,\n",
              "       119.62672506, 119.61838065, 119.61008632, 119.60185209,\n",
              "       119.59367797, 119.58560403, 119.57756013, 119.56959637,\n",
              "       119.56171275, 119.55387922, 119.54611581, 119.53839247,\n",
              "       119.53075928, 119.52317618, 119.51565318, 119.50821032,\n",
              "       119.50079752, 119.49346485, 119.48617225, 119.47894978,\n",
              "       119.47179742, 119.46467512, 119.45763295, 119.45067092,\n",
              "       119.44372893, 119.43685706, 119.43002526, 119.42325356,\n",
              "       119.41652193, 119.40989047, 119.40327905, 119.39671772,\n",
              "       119.39023652, 119.38378538, 119.37738432, 119.37104336,\n",
              "       119.3647525 , 119.35851171, 119.35232102, 119.34619043,\n",
              "       119.34007987, 119.33404946, 119.32802905, 119.32208879,\n",
              "       119.31617858, 119.31033849, 119.30452846, 119.29878854,\n",
              "       119.29305864, 119.28740888, 119.28178917, 119.27619952,\n",
              "       119.27064993, 119.26518048, 119.25974108, 119.25432172,\n",
              "       119.24897248, 119.24366331, 119.23839421, 119.23314514,\n",
              "       119.22796619, 119.22282731, 119.21770847, 119.21264973,\n",
              "       119.20762105, 119.20264244, 119.19768388, 119.1927754 ,\n",
              "       119.18789697, 119.18308866, 119.17828036, 119.17352214,\n",
              "       119.16882402, 119.16414594, 119.15950793, 119.15487993,\n",
              "       119.15032206, 119.14579424, 119.14127643, 119.13682875,\n",
              "       119.13241112, 119.12801352, 119.12367603, 119.11933853,\n",
              "       119.11505113, 119.11081381, 119.10659652, 119.10240929,\n",
              "       119.09825211, 119.09414501, 119.09004793, 119.08601096,\n",
              "       119.08197399, 119.07797708, 119.07403026, 119.0701135 ,\n",
              "       119.06620675, 119.06234007, 119.05851346, 119.05472691,\n",
              "       119.05095039, 119.04720392, 119.04347748, 119.0397811 ,\n",
              "       119.0361348 , 119.0324885 , 119.02891232, 119.02533614,\n",
              "       119.02181005, 119.01827394, 119.01479794, 119.01134197,\n",
              "       119.00790603, 119.00449013, 119.00110428, 118.99776852,\n",
              "       118.99442274, 118.9911571 , 118.9878614 , 118.9846158 ,\n",
              "       118.98138021, 118.97820472, 118.97501922, 118.97186377,\n",
              "       118.96872835, 118.96567307, 118.96256771, 118.95953246,\n",
              "       118.95647718, 118.95351206, 118.95050687, 118.94756178,\n",
              "       118.94463673, 118.94172169, 118.93884673, 118.9359918 ,\n",
              "       118.93313686, 118.930322  , 118.92750714, 118.92474236,\n",
              "       118.92197759, 118.91924286, 118.91654821, 118.91386357,\n",
              "       118.91117893, 118.90854438, 118.90592986, 118.90330533,\n",
              "       118.90072086, 118.89815643, 118.89560202, 118.89307766,\n",
              "       118.89057333, 118.88809906, 118.8856348 , 118.88319058,\n",
              "       118.88075637, 118.87835222, 118.8759681 , 118.87357397,\n",
              "       118.87122992, 118.86888587, 118.86657187, 118.86429794,\n",
              "       118.86199396, 118.85974007, 118.85748617, 118.85527235,\n",
              "       118.85306854, 118.85086474, 118.84869098, 118.84654728,\n",
              "       118.84438354, 118.84226989, 118.84015624, 118.83806262,\n",
              "       118.83598904, 118.83394551, 118.83189196, 118.82985845,\n",
              "       118.827865  , 118.82583149, 118.82387811, 118.82192474,\n",
              "       118.81995133, 118.81803803, 118.81609467, 118.8142014 ,\n",
              "       118.81230813, 118.81044491, 118.80860172, 118.80671847,\n",
              "       118.80489532, 118.80308219, 118.80126906, 118.79948598,\n",
              "       118.7977029 , 118.79594987, 118.79420686, 118.79246385,\n",
              "       118.79075089, 118.78904794, 118.787345  , 118.78564206,\n",
              "       118.78398921, 118.78233635, 118.78070353, 118.77907071,\n",
              "       118.77744791, 118.77586517, 118.7742624 , 118.77266965,\n",
              "       118.77110695, 118.76956429, 118.76802162, 118.76648897,\n",
              "       118.76495633, 118.76345373, 118.76197117, 118.76046857,\n",
              "       118.75901606, 118.75755354, 118.75609101, 118.75466855,\n",
              "       118.75322606, 118.75181362, 118.7504112 , 118.74902881,\n",
              "       118.7476364 , 118.74625402, 118.74490168, 118.74352931,\n",
              "       118.74220703, 118.74084467, 118.73954242, 118.73825019,\n",
              "       118.73691789, 118.73562566, 118.73436348, 118.73309128,\n",
              "       118.7318291 , 118.73058695, 118.72931475, 118.72809264,\n",
              "       118.72687053, 118.72565844, 118.72446638, 118.72325428,\n",
              "       118.72210229, 118.72091023, 118.71974823, 118.71858622,\n",
              "       118.71742421, 118.71628224, 118.71518034, 118.71403836,\n",
              "       118.71293646, 118.71182454, 118.71072263, 118.70965078,\n",
              "       118.7085589 , 118.70750708, 118.70643523, 118.70536338,\n",
              "       118.70432158, 118.70328979, 118.70227805, 118.70125628,\n",
              "       118.7002245 , 118.69921275, 118.69822104, 118.69721931,\n",
              "       118.69623761, 118.69527595, 118.69428424, 118.69333259,\n",
              "       118.69240098, 118.6914293 , 118.69048768, 118.68955607,\n",
              "       118.68863448, 118.68773292, 118.68681133, 118.68591979,\n",
              "       118.68500821, 118.68411667, 118.68321511, 118.6823937 ,\n",
              "       118.68149214, 118.68062063, 118.6797892 , 118.67891769,\n",
              "       118.67807624, 118.67725482, 118.67644342, 118.67559195,\n",
              "       118.67478054, 118.67398918, 118.67316776, 118.67236637,\n",
              "       118.67159504, 118.67079366, 118.67004236, 118.66926101,\n",
              "       118.66849969, 118.66770833, 118.66696705, 118.6662458 ,\n",
              "       118.66548448, 118.66475322, 118.66399191, 118.66328068,\n",
              "       118.66256945, 118.6618482 , 118.66114699, 118.66044578,\n",
              "       118.65974457, 118.65906339, 118.65835216, 118.65769102,\n",
              "       118.65698981, 118.65632867, 118.65566752, 118.65499637,\n",
              "       118.65434524, 118.65369412, 118.65304299, 118.65240188,\n",
              "       118.65176078, 118.65112969, 118.65048858, 118.64987752,\n",
              "       118.64925645, 118.64863538, 118.64804436, 118.64744332,\n",
              "       118.64682224, 118.64624124, 118.64566024, 118.64506922,\n",
              "       118.64448821, 118.64388717, 118.6433262 , 118.6427452 ,\n",
              "       118.64221428, 118.64165331, 118.64107231, 118.64054139,\n",
              "       118.63999044, 118.63945952, 118.63890857, 118.63837766,\n",
              "       118.63786677, 118.63731582, 118.63681496, 118.63628404,\n",
              "       118.63576314, 118.63527229, 118.63476141, 118.63426054,\n",
              "       118.6337697 , 118.63326883, 118.63277798, 118.63229715,\n",
              "       118.63181632, 118.63135552, 118.63086468, 118.63038385,\n",
              "       118.62992305, 118.62946225, 118.62900146, 118.62853064,\n",
              "       118.62807987, 118.62764912, 118.62719834, 118.62674756,\n",
              "       118.6263068 , 118.62586604, 118.62545533, 118.62500455,\n",
              "       118.62458383, 118.6241631 , 118.62373236, 118.62332165,\n",
              "       118.62291094, 118.62251024, 118.62208952, 118.62168883,\n",
              "       118.62130817, 118.62089746, 118.62050678, 118.62012613,\n",
              "       118.61971542, 118.61934478, 118.61896412, 118.61858346,\n",
              "       118.6182028 , 118.61784218, 118.61747154, 118.6171009 ,\n",
              "       118.61672024, 118.61637965, 118.61597896, 118.61563837,\n",
              "       118.61531782, 118.61494718, 118.61459657, 118.61424597,\n",
              "       118.6139154 , 118.61356479, 118.6132242 , 118.61290365,\n",
              "       118.61256306, 118.61223249, 118.6118919 , 118.61159138,\n",
              "       118.61124078, 118.6109102 , 118.61060969, 118.6102691 ,\n",
              "       118.6099786 , 118.60964802, 118.60934751, 118.609057  ,\n",
              "       118.60873645, 118.60845597, 118.60815545, 118.60785493,\n",
              "       118.60757444, 118.60726391, 118.6069734 , 118.60669292,\n",
              "       118.60640242, 118.6061019 , 118.60585147, 118.60556096,\n",
              "       118.6052905 , 118.60501001, 118.60474956, 118.60446908,\n",
              "       118.60419861, 118.60393816, 118.60364766, 118.60340724,\n",
              "       118.60312676, 118.60288634, 118.60263591, 118.60236544,\n",
              "       118.60213505, 118.60188461, 118.6016442 , 118.60137373,\n",
              "       118.60114333, 118.60088288, 118.6006625 , 118.60042209,\n",
              "       118.60018167, 118.59996129, 118.59970084, 118.59946042,\n",
              "       118.59923003, 118.59900965, 118.59879928, 118.59853883,\n",
              "       118.59831845, 118.59808805, 118.59787769, 118.59767734,\n",
              "       118.59743693, 118.59723658, 118.59702622, 118.59680584,\n",
              "       118.59658546, 118.59639513, 118.59617475, 118.5959744 ,\n",
              "       118.59577406, 118.59557371, 118.59538338, 118.59519305,\n",
              "       118.59499271, 118.59478234, 118.59459201, 118.59442172,\n",
              "       118.59422137, 118.59403105, 118.59385073, 118.59367042,\n",
              "       118.59348009, 118.59326973, 118.59311947, 118.59293916,\n",
              "       118.59274883, 118.5925585 , 118.59239822, 118.59222793,\n",
              "       118.59204762, 118.59185729, 118.59170703, 118.59152672,\n",
              "       118.59136644, 118.59118613, 118.59103587, 118.59085556,\n",
              "       118.59069528, 118.59054502, 118.59035469, 118.59022447,\n",
              "       118.59004416, 118.58991393, 118.58974364, 118.58959338,\n",
              "       118.58944312, 118.58926281, 118.58916264, 118.58899234,\n",
              "       118.58882205, 118.5886818 , 118.58854156, 118.5883913 ,\n",
              "       118.58826108, 118.58811082, 118.58797058, 118.58782032,\n",
              "       118.58768007, 118.58755987, 118.58740961, 118.58727938,\n",
              "       118.58713914, 118.5869989 , 118.58686867, 118.58671841,\n",
              "       118.58658819, 118.58646798, 118.58631772, 118.58621755,\n",
              "       118.58608732, 118.58594708, 118.58581686, 118.58570666,\n",
              "       118.58556642, 118.58544621, 118.58533602, 118.58519578,\n",
              "       118.58508559, 118.58496538, 118.58484518, 118.58472497,\n",
              "       118.5846248 , 118.58451461, 118.58438438, 118.58427419,\n",
              "       118.58417402, 118.58405381, 118.58395364, 118.58384345,\n",
              "       118.58372324, 118.58362307, 118.58348282, 118.58340268,\n",
              "       118.58330251, 118.58317229, 118.58309215, 118.58298196,\n",
              "       118.58287177, 118.58275156, 118.58267142, 118.58256123,\n",
              "       118.58245104, 118.5823709 , 118.58224068, 118.58216054,\n",
              "       118.58207038, 118.58197021, 118.58186002, 118.58176986,\n",
              "       118.58167971, 118.58158955, 118.58148938, 118.58139922,\n",
              "       118.58130907, 118.58121891, 118.58111874, 118.58102858,\n",
              "       118.58092841, 118.58085829, 118.58076813, 118.58066796,\n",
              "       118.58059784, 118.58050768, 118.58043756, 118.58035742,\n",
              "       118.58025725, 118.58019715, 118.58009697, 118.58003687,\n",
              "       118.5799367 , 118.57985656, 118.57979645, 118.5797063 ,\n",
              "       118.57962616, 118.57954602, 118.5794759 , 118.57939576,\n",
              "       118.57933566, 118.5792455 , 118.57917538, 118.57910526,\n",
              "       118.57902512, 118.57896502, 118.57888488, 118.57881476,\n",
              "       118.57876467, 118.5786645 , 118.57861441, 118.57854429,\n",
              "       118.57847417, 118.57840405, 118.57835396, 118.57827382,\n",
              "       118.57821372, 118.57812356, 118.57806346, 118.57801337,\n",
              "       118.57795327, 118.57788315, 118.57782305, 118.57776294,\n",
              "       118.57770284, 118.5776227 , 118.57757261, 118.57751251,\n",
              "       118.57746242, 118.57740232, 118.57734221, 118.57728211,\n",
              "       118.57723202, 118.57717192, 118.57712183, 118.57705171,\n",
              "       118.57699161, 118.57693151, 118.57688142, 118.57682132,\n",
              "       118.57677123, 118.57671112, 118.57666104, 118.57661095,\n",
              "       118.57655085, 118.57650076, 118.57643064, 118.57639057])"
            ]
          },
          "metadata": {},
          "execution_count": 144
        }
      ]
    },
    {
      "cell_type": "code",
      "source": [
        "df_new = df[['Close']]\n",
        "df_new"
      ],
      "metadata": {
        "colab": {
          "base_uri": "https://localhost:8080/",
          "height": 455
        },
        "id": "jmEv6_xQXYhV",
        "outputId": "a768df33-88e1-45a7-ddd6-c6f9e460ed3a"
      },
      "execution_count": 145,
      "outputs": [
        {
          "output_type": "execute_result",
          "data": {
            "text/plain": [
              "                 Close\n",
              "Date                  \n",
              "2012-01-03   14.686786\n",
              "2012-01-04   14.765714\n",
              "2012-01-05   14.929643\n",
              "2012-01-06   15.085714\n",
              "2012-01-09   15.061786\n",
              "...                ...\n",
              "2022-11-22  150.179993\n",
              "2022-11-23  151.070007\n",
              "2022-11-25  148.110001\n",
              "2022-11-28  144.220001\n",
              "2022-11-29  141.169998\n",
              "\n",
              "[2746 rows x 1 columns]"
            ],
            "text/html": [
              "\n",
              "  <div id=\"df-60241d51-8c9e-4313-ba51-e85b6e0b9a19\">\n",
              "    <div class=\"colab-df-container\">\n",
              "      <div>\n",
              "<style scoped>\n",
              "    .dataframe tbody tr th:only-of-type {\n",
              "        vertical-align: middle;\n",
              "    }\n",
              "\n",
              "    .dataframe tbody tr th {\n",
              "        vertical-align: top;\n",
              "    }\n",
              "\n",
              "    .dataframe thead th {\n",
              "        text-align: right;\n",
              "    }\n",
              "</style>\n",
              "<table border=\"1\" class=\"dataframe\">\n",
              "  <thead>\n",
              "    <tr style=\"text-align: right;\">\n",
              "      <th></th>\n",
              "      <th>Close</th>\n",
              "    </tr>\n",
              "    <tr>\n",
              "      <th>Date</th>\n",
              "      <th></th>\n",
              "    </tr>\n",
              "  </thead>\n",
              "  <tbody>\n",
              "    <tr>\n",
              "      <th>2012-01-03</th>\n",
              "      <td>14.686786</td>\n",
              "    </tr>\n",
              "    <tr>\n",
              "      <th>2012-01-04</th>\n",
              "      <td>14.765714</td>\n",
              "    </tr>\n",
              "    <tr>\n",
              "      <th>2012-01-05</th>\n",
              "      <td>14.929643</td>\n",
              "    </tr>\n",
              "    <tr>\n",
              "      <th>2012-01-06</th>\n",
              "      <td>15.085714</td>\n",
              "    </tr>\n",
              "    <tr>\n",
              "      <th>2012-01-09</th>\n",
              "      <td>15.061786</td>\n",
              "    </tr>\n",
              "    <tr>\n",
              "      <th>...</th>\n",
              "      <td>...</td>\n",
              "    </tr>\n",
              "    <tr>\n",
              "      <th>2022-11-22</th>\n",
              "      <td>150.179993</td>\n",
              "    </tr>\n",
              "    <tr>\n",
              "      <th>2022-11-23</th>\n",
              "      <td>151.070007</td>\n",
              "    </tr>\n",
              "    <tr>\n",
              "      <th>2022-11-25</th>\n",
              "      <td>148.110001</td>\n",
              "    </tr>\n",
              "    <tr>\n",
              "      <th>2022-11-28</th>\n",
              "      <td>144.220001</td>\n",
              "    </tr>\n",
              "    <tr>\n",
              "      <th>2022-11-29</th>\n",
              "      <td>141.169998</td>\n",
              "    </tr>\n",
              "  </tbody>\n",
              "</table>\n",
              "<p>2746 rows × 1 columns</p>\n",
              "</div>\n",
              "      <button class=\"colab-df-convert\" onclick=\"convertToInteractive('df-60241d51-8c9e-4313-ba51-e85b6e0b9a19')\"\n",
              "              title=\"Convert this dataframe to an interactive table.\"\n",
              "              style=\"display:none;\">\n",
              "        \n",
              "  <svg xmlns=\"http://www.w3.org/2000/svg\" height=\"24px\"viewBox=\"0 0 24 24\"\n",
              "       width=\"24px\">\n",
              "    <path d=\"M0 0h24v24H0V0z\" fill=\"none\"/>\n",
              "    <path d=\"M18.56 5.44l.94 2.06.94-2.06 2.06-.94-2.06-.94-.94-2.06-.94 2.06-2.06.94zm-11 1L8.5 8.5l.94-2.06 2.06-.94-2.06-.94L8.5 2.5l-.94 2.06-2.06.94zm10 10l.94 2.06.94-2.06 2.06-.94-2.06-.94-.94-2.06-.94 2.06-2.06.94z\"/><path d=\"M17.41 7.96l-1.37-1.37c-.4-.4-.92-.59-1.43-.59-.52 0-1.04.2-1.43.59L10.3 9.45l-7.72 7.72c-.78.78-.78 2.05 0 2.83L4 21.41c.39.39.9.59 1.41.59.51 0 1.02-.2 1.41-.59l7.78-7.78 2.81-2.81c.8-.78.8-2.07 0-2.86zM5.41 20L4 18.59l7.72-7.72 1.47 1.35L5.41 20z\"/>\n",
              "  </svg>\n",
              "      </button>\n",
              "      \n",
              "  <style>\n",
              "    .colab-df-container {\n",
              "      display:flex;\n",
              "      flex-wrap:wrap;\n",
              "      gap: 12px;\n",
              "    }\n",
              "\n",
              "    .colab-df-convert {\n",
              "      background-color: #E8F0FE;\n",
              "      border: none;\n",
              "      border-radius: 50%;\n",
              "      cursor: pointer;\n",
              "      display: none;\n",
              "      fill: #1967D2;\n",
              "      height: 32px;\n",
              "      padding: 0 0 0 0;\n",
              "      width: 32px;\n",
              "    }\n",
              "\n",
              "    .colab-df-convert:hover {\n",
              "      background-color: #E2EBFA;\n",
              "      box-shadow: 0px 1px 2px rgba(60, 64, 67, 0.3), 0px 1px 3px 1px rgba(60, 64, 67, 0.15);\n",
              "      fill: #174EA6;\n",
              "    }\n",
              "\n",
              "    [theme=dark] .colab-df-convert {\n",
              "      background-color: #3B4455;\n",
              "      fill: #D2E3FC;\n",
              "    }\n",
              "\n",
              "    [theme=dark] .colab-df-convert:hover {\n",
              "      background-color: #434B5C;\n",
              "      box-shadow: 0px 1px 3px 1px rgba(0, 0, 0, 0.15);\n",
              "      filter: drop-shadow(0px 1px 2px rgba(0, 0, 0, 0.3));\n",
              "      fill: #FFFFFF;\n",
              "    }\n",
              "  </style>\n",
              "\n",
              "      <script>\n",
              "        const buttonEl =\n",
              "          document.querySelector('#df-60241d51-8c9e-4313-ba51-e85b6e0b9a19 button.colab-df-convert');\n",
              "        buttonEl.style.display =\n",
              "          google.colab.kernel.accessAllowed ? 'block' : 'none';\n",
              "\n",
              "        async function convertToInteractive(key) {\n",
              "          const element = document.querySelector('#df-60241d51-8c9e-4313-ba51-e85b6e0b9a19');\n",
              "          const dataTable =\n",
              "            await google.colab.kernel.invokeFunction('convertToInteractive',\n",
              "                                                     [key], {});\n",
              "          if (!dataTable) return;\n",
              "\n",
              "          const docLinkHtml = 'Like what you see? Visit the ' +\n",
              "            '<a target=\"_blank\" href=https://colab.research.google.com/notebooks/data_table.ipynb>data table notebook</a>'\n",
              "            + ' to learn more about interactive tables.';\n",
              "          element.innerHTML = '';\n",
              "          dataTable['output_type'] = 'display_data';\n",
              "          await google.colab.output.renderOutput(dataTable, element);\n",
              "          const docLink = document.createElement('div');\n",
              "          docLink.innerHTML = docLinkHtml;\n",
              "          element.appendChild(docLink);\n",
              "        }\n",
              "      </script>\n",
              "    </div>\n",
              "  </div>\n",
              "  "
            ]
          },
          "metadata": {},
          "execution_count": 145
        }
      ]
    },
    {
      "cell_type": "code",
      "source": [
        "df_pred_new = pd.DataFrame({\n",
        "    'Close' : pred_new\n",
        "})"
      ],
      "metadata": {
        "id": "Ubv2f6MbYIQq"
      },
      "execution_count": 146,
      "outputs": []
    },
    {
      "cell_type": "code",
      "source": [
        "df_pred_new"
      ],
      "metadata": {
        "colab": {
          "base_uri": "https://localhost:8080/",
          "height": 424
        },
        "id": "YUX74gZGaC87",
        "outputId": "68c080f6-37a0-40df-a4b0-4a891e7ab2be"
      },
      "execution_count": 147,
      "outputs": [
        {
          "output_type": "execute_result",
          "data": {
            "text/plain": [
              "          Close\n",
              "0    147.557607\n",
              "1    146.914816\n",
              "2    146.386213\n",
              "3    145.932499\n",
              "4    145.528231\n",
              "..          ...\n",
              "995  118.576611\n",
              "996  118.576551\n",
              "997  118.576501\n",
              "998  118.576431\n",
              "999  118.576391\n",
              "\n",
              "[1000 rows x 1 columns]"
            ],
            "text/html": [
              "\n",
              "  <div id=\"df-b0b08668-11a4-4372-86d8-25986977d4f8\">\n",
              "    <div class=\"colab-df-container\">\n",
              "      <div>\n",
              "<style scoped>\n",
              "    .dataframe tbody tr th:only-of-type {\n",
              "        vertical-align: middle;\n",
              "    }\n",
              "\n",
              "    .dataframe tbody tr th {\n",
              "        vertical-align: top;\n",
              "    }\n",
              "\n",
              "    .dataframe thead th {\n",
              "        text-align: right;\n",
              "    }\n",
              "</style>\n",
              "<table border=\"1\" class=\"dataframe\">\n",
              "  <thead>\n",
              "    <tr style=\"text-align: right;\">\n",
              "      <th></th>\n",
              "      <th>Close</th>\n",
              "    </tr>\n",
              "  </thead>\n",
              "  <tbody>\n",
              "    <tr>\n",
              "      <th>0</th>\n",
              "      <td>147.557607</td>\n",
              "    </tr>\n",
              "    <tr>\n",
              "      <th>1</th>\n",
              "      <td>146.914816</td>\n",
              "    </tr>\n",
              "    <tr>\n",
              "      <th>2</th>\n",
              "      <td>146.386213</td>\n",
              "    </tr>\n",
              "    <tr>\n",
              "      <th>3</th>\n",
              "      <td>145.932499</td>\n",
              "    </tr>\n",
              "    <tr>\n",
              "      <th>4</th>\n",
              "      <td>145.528231</td>\n",
              "    </tr>\n",
              "    <tr>\n",
              "      <th>...</th>\n",
              "      <td>...</td>\n",
              "    </tr>\n",
              "    <tr>\n",
              "      <th>995</th>\n",
              "      <td>118.576611</td>\n",
              "    </tr>\n",
              "    <tr>\n",
              "      <th>996</th>\n",
              "      <td>118.576551</td>\n",
              "    </tr>\n",
              "    <tr>\n",
              "      <th>997</th>\n",
              "      <td>118.576501</td>\n",
              "    </tr>\n",
              "    <tr>\n",
              "      <th>998</th>\n",
              "      <td>118.576431</td>\n",
              "    </tr>\n",
              "    <tr>\n",
              "      <th>999</th>\n",
              "      <td>118.576391</td>\n",
              "    </tr>\n",
              "  </tbody>\n",
              "</table>\n",
              "<p>1000 rows × 1 columns</p>\n",
              "</div>\n",
              "      <button class=\"colab-df-convert\" onclick=\"convertToInteractive('df-b0b08668-11a4-4372-86d8-25986977d4f8')\"\n",
              "              title=\"Convert this dataframe to an interactive table.\"\n",
              "              style=\"display:none;\">\n",
              "        \n",
              "  <svg xmlns=\"http://www.w3.org/2000/svg\" height=\"24px\"viewBox=\"0 0 24 24\"\n",
              "       width=\"24px\">\n",
              "    <path d=\"M0 0h24v24H0V0z\" fill=\"none\"/>\n",
              "    <path d=\"M18.56 5.44l.94 2.06.94-2.06 2.06-.94-2.06-.94-.94-2.06-.94 2.06-2.06.94zm-11 1L8.5 8.5l.94-2.06 2.06-.94-2.06-.94L8.5 2.5l-.94 2.06-2.06.94zm10 10l.94 2.06.94-2.06 2.06-.94-2.06-.94-.94-2.06-.94 2.06-2.06.94z\"/><path d=\"M17.41 7.96l-1.37-1.37c-.4-.4-.92-.59-1.43-.59-.52 0-1.04.2-1.43.59L10.3 9.45l-7.72 7.72c-.78.78-.78 2.05 0 2.83L4 21.41c.39.39.9.59 1.41.59.51 0 1.02-.2 1.41-.59l7.78-7.78 2.81-2.81c.8-.78.8-2.07 0-2.86zM5.41 20L4 18.59l7.72-7.72 1.47 1.35L5.41 20z\"/>\n",
              "  </svg>\n",
              "      </button>\n",
              "      \n",
              "  <style>\n",
              "    .colab-df-container {\n",
              "      display:flex;\n",
              "      flex-wrap:wrap;\n",
              "      gap: 12px;\n",
              "    }\n",
              "\n",
              "    .colab-df-convert {\n",
              "      background-color: #E8F0FE;\n",
              "      border: none;\n",
              "      border-radius: 50%;\n",
              "      cursor: pointer;\n",
              "      display: none;\n",
              "      fill: #1967D2;\n",
              "      height: 32px;\n",
              "      padding: 0 0 0 0;\n",
              "      width: 32px;\n",
              "    }\n",
              "\n",
              "    .colab-df-convert:hover {\n",
              "      background-color: #E2EBFA;\n",
              "      box-shadow: 0px 1px 2px rgba(60, 64, 67, 0.3), 0px 1px 3px 1px rgba(60, 64, 67, 0.15);\n",
              "      fill: #174EA6;\n",
              "    }\n",
              "\n",
              "    [theme=dark] .colab-df-convert {\n",
              "      background-color: #3B4455;\n",
              "      fill: #D2E3FC;\n",
              "    }\n",
              "\n",
              "    [theme=dark] .colab-df-convert:hover {\n",
              "      background-color: #434B5C;\n",
              "      box-shadow: 0px 1px 3px 1px rgba(0, 0, 0, 0.15);\n",
              "      filter: drop-shadow(0px 1px 2px rgba(0, 0, 0, 0.3));\n",
              "      fill: #FFFFFF;\n",
              "    }\n",
              "  </style>\n",
              "\n",
              "      <script>\n",
              "        const buttonEl =\n",
              "          document.querySelector('#df-b0b08668-11a4-4372-86d8-25986977d4f8 button.colab-df-convert');\n",
              "        buttonEl.style.display =\n",
              "          google.colab.kernel.accessAllowed ? 'block' : 'none';\n",
              "\n",
              "        async function convertToInteractive(key) {\n",
              "          const element = document.querySelector('#df-b0b08668-11a4-4372-86d8-25986977d4f8');\n",
              "          const dataTable =\n",
              "            await google.colab.kernel.invokeFunction('convertToInteractive',\n",
              "                                                     [key], {});\n",
              "          if (!dataTable) return;\n",
              "\n",
              "          const docLinkHtml = 'Like what you see? Visit the ' +\n",
              "            '<a target=\"_blank\" href=https://colab.research.google.com/notebooks/data_table.ipynb>data table notebook</a>'\n",
              "            + ' to learn more about interactive tables.';\n",
              "          element.innerHTML = '';\n",
              "          dataTable['output_type'] = 'display_data';\n",
              "          await google.colab.output.renderOutput(dataTable, element);\n",
              "          const docLink = document.createElement('div');\n",
              "          docLink.innerHTML = docLinkHtml;\n",
              "          element.appendChild(docLink);\n",
              "        }\n",
              "      </script>\n",
              "    </div>\n",
              "  </div>\n",
              "  "
            ]
          },
          "metadata": {},
          "execution_count": 147
        }
      ]
    },
    {
      "cell_type": "code",
      "source": [
        "temp = pd.concat([df_new, df_pred_new], axis=0, ignore_index=True)"
      ],
      "metadata": {
        "id": "Go6-EkIQXbl9"
      },
      "execution_count": 148,
      "outputs": []
    },
    {
      "cell_type": "code",
      "source": [
        "temp"
      ],
      "metadata": {
        "colab": {
          "base_uri": "https://localhost:8080/",
          "height": 424
        },
        "id": "BXAataWKdKwB",
        "outputId": "222839d8-4a5d-423e-9208-c6ab32468594"
      },
      "execution_count": 154,
      "outputs": [
        {
          "output_type": "execute_result",
          "data": {
            "text/plain": [
              "           Close\n",
              "0      14.686786\n",
              "1      14.765714\n",
              "2      14.929643\n",
              "3      15.085714\n",
              "4      15.061786\n",
              "...          ...\n",
              "3741  118.576611\n",
              "3742  118.576551\n",
              "3743  118.576501\n",
              "3744  118.576431\n",
              "3745  118.576391\n",
              "\n",
              "[3746 rows x 1 columns]"
            ],
            "text/html": [
              "\n",
              "  <div id=\"df-ef68e2af-349b-4b2c-8324-837e91b58a4b\">\n",
              "    <div class=\"colab-df-container\">\n",
              "      <div>\n",
              "<style scoped>\n",
              "    .dataframe tbody tr th:only-of-type {\n",
              "        vertical-align: middle;\n",
              "    }\n",
              "\n",
              "    .dataframe tbody tr th {\n",
              "        vertical-align: top;\n",
              "    }\n",
              "\n",
              "    .dataframe thead th {\n",
              "        text-align: right;\n",
              "    }\n",
              "</style>\n",
              "<table border=\"1\" class=\"dataframe\">\n",
              "  <thead>\n",
              "    <tr style=\"text-align: right;\">\n",
              "      <th></th>\n",
              "      <th>Close</th>\n",
              "    </tr>\n",
              "  </thead>\n",
              "  <tbody>\n",
              "    <tr>\n",
              "      <th>0</th>\n",
              "      <td>14.686786</td>\n",
              "    </tr>\n",
              "    <tr>\n",
              "      <th>1</th>\n",
              "      <td>14.765714</td>\n",
              "    </tr>\n",
              "    <tr>\n",
              "      <th>2</th>\n",
              "      <td>14.929643</td>\n",
              "    </tr>\n",
              "    <tr>\n",
              "      <th>3</th>\n",
              "      <td>15.085714</td>\n",
              "    </tr>\n",
              "    <tr>\n",
              "      <th>4</th>\n",
              "      <td>15.061786</td>\n",
              "    </tr>\n",
              "    <tr>\n",
              "      <th>...</th>\n",
              "      <td>...</td>\n",
              "    </tr>\n",
              "    <tr>\n",
              "      <th>3741</th>\n",
              "      <td>118.576611</td>\n",
              "    </tr>\n",
              "    <tr>\n",
              "      <th>3742</th>\n",
              "      <td>118.576551</td>\n",
              "    </tr>\n",
              "    <tr>\n",
              "      <th>3743</th>\n",
              "      <td>118.576501</td>\n",
              "    </tr>\n",
              "    <tr>\n",
              "      <th>3744</th>\n",
              "      <td>118.576431</td>\n",
              "    </tr>\n",
              "    <tr>\n",
              "      <th>3745</th>\n",
              "      <td>118.576391</td>\n",
              "    </tr>\n",
              "  </tbody>\n",
              "</table>\n",
              "<p>3746 rows × 1 columns</p>\n",
              "</div>\n",
              "      <button class=\"colab-df-convert\" onclick=\"convertToInteractive('df-ef68e2af-349b-4b2c-8324-837e91b58a4b')\"\n",
              "              title=\"Convert this dataframe to an interactive table.\"\n",
              "              style=\"display:none;\">\n",
              "        \n",
              "  <svg xmlns=\"http://www.w3.org/2000/svg\" height=\"24px\"viewBox=\"0 0 24 24\"\n",
              "       width=\"24px\">\n",
              "    <path d=\"M0 0h24v24H0V0z\" fill=\"none\"/>\n",
              "    <path d=\"M18.56 5.44l.94 2.06.94-2.06 2.06-.94-2.06-.94-.94-2.06-.94 2.06-2.06.94zm-11 1L8.5 8.5l.94-2.06 2.06-.94-2.06-.94L8.5 2.5l-.94 2.06-2.06.94zm10 10l.94 2.06.94-2.06 2.06-.94-2.06-.94-.94-2.06-.94 2.06-2.06.94z\"/><path d=\"M17.41 7.96l-1.37-1.37c-.4-.4-.92-.59-1.43-.59-.52 0-1.04.2-1.43.59L10.3 9.45l-7.72 7.72c-.78.78-.78 2.05 0 2.83L4 21.41c.39.39.9.59 1.41.59.51 0 1.02-.2 1.41-.59l7.78-7.78 2.81-2.81c.8-.78.8-2.07 0-2.86zM5.41 20L4 18.59l7.72-7.72 1.47 1.35L5.41 20z\"/>\n",
              "  </svg>\n",
              "      </button>\n",
              "      \n",
              "  <style>\n",
              "    .colab-df-container {\n",
              "      display:flex;\n",
              "      flex-wrap:wrap;\n",
              "      gap: 12px;\n",
              "    }\n",
              "\n",
              "    .colab-df-convert {\n",
              "      background-color: #E8F0FE;\n",
              "      border: none;\n",
              "      border-radius: 50%;\n",
              "      cursor: pointer;\n",
              "      display: none;\n",
              "      fill: #1967D2;\n",
              "      height: 32px;\n",
              "      padding: 0 0 0 0;\n",
              "      width: 32px;\n",
              "    }\n",
              "\n",
              "    .colab-df-convert:hover {\n",
              "      background-color: #E2EBFA;\n",
              "      box-shadow: 0px 1px 2px rgba(60, 64, 67, 0.3), 0px 1px 3px 1px rgba(60, 64, 67, 0.15);\n",
              "      fill: #174EA6;\n",
              "    }\n",
              "\n",
              "    [theme=dark] .colab-df-convert {\n",
              "      background-color: #3B4455;\n",
              "      fill: #D2E3FC;\n",
              "    }\n",
              "\n",
              "    [theme=dark] .colab-df-convert:hover {\n",
              "      background-color: #434B5C;\n",
              "      box-shadow: 0px 1px 3px 1px rgba(0, 0, 0, 0.15);\n",
              "      filter: drop-shadow(0px 1px 2px rgba(0, 0, 0, 0.3));\n",
              "      fill: #FFFFFF;\n",
              "    }\n",
              "  </style>\n",
              "\n",
              "      <script>\n",
              "        const buttonEl =\n",
              "          document.querySelector('#df-ef68e2af-349b-4b2c-8324-837e91b58a4b button.colab-df-convert');\n",
              "        buttonEl.style.display =\n",
              "          google.colab.kernel.accessAllowed ? 'block' : 'none';\n",
              "\n",
              "        async function convertToInteractive(key) {\n",
              "          const element = document.querySelector('#df-ef68e2af-349b-4b2c-8324-837e91b58a4b');\n",
              "          const dataTable =\n",
              "            await google.colab.kernel.invokeFunction('convertToInteractive',\n",
              "                                                     [key], {});\n",
              "          if (!dataTable) return;\n",
              "\n",
              "          const docLinkHtml = 'Like what you see? Visit the ' +\n",
              "            '<a target=\"_blank\" href=https://colab.research.google.com/notebooks/data_table.ipynb>data table notebook</a>'\n",
              "            + ' to learn more about interactive tables.';\n",
              "          element.innerHTML = '';\n",
              "          dataTable['output_type'] = 'display_data';\n",
              "          await google.colab.output.renderOutput(dataTable, element);\n",
              "          const docLink = document.createElement('div');\n",
              "          docLink.innerHTML = docLinkHtml;\n",
              "          element.appendChild(docLink);\n",
              "        }\n",
              "      </script>\n",
              "    </div>\n",
              "  </div>\n",
              "  "
            ]
          },
          "metadata": {},
          "execution_count": 154
        }
      ]
    },
    {
      "cell_type": "code",
      "source": [
        "df.iloc[-6:]"
      ],
      "metadata": {
        "colab": {
          "base_uri": "https://localhost:8080/",
          "height": 269
        },
        "id": "UsRTkNRGFmO4",
        "outputId": "2fd53b40-a7d9-4c6b-ca83-170a2cd49333"
      },
      "execution_count": 149,
      "outputs": [
        {
          "output_type": "execute_result",
          "data": {
            "text/plain": [
              "                  Open        High         Low       Close   Adj Close  \\\n",
              "Date                                                                     \n",
              "2022-11-21  150.160004  150.369995  147.720001  148.009995  148.009995   \n",
              "2022-11-22  148.130005  150.419998  146.929993  150.179993  150.179993   \n",
              "2022-11-23  149.449997  151.830002  149.339996  151.070007  151.070007   \n",
              "2022-11-25  148.309998  148.880005  147.119995  148.110001  148.110001   \n",
              "2022-11-28  145.139999  146.639999  143.380005  144.220001  144.220001   \n",
              "2022-11-29  144.289993  144.809998  140.350006  141.169998  141.169998   \n",
              "\n",
              "              Volume  \n",
              "Date                  \n",
              "2022-11-21  58724100  \n",
              "2022-11-22  51804100  \n",
              "2022-11-23  58301400  \n",
              "2022-11-25  35195900  \n",
              "2022-11-28  69246000  \n",
              "2022-11-29  83763800  "
            ],
            "text/html": [
              "\n",
              "  <div id=\"df-a4d00185-e4b1-427b-b323-1ebda6c98fe1\">\n",
              "    <div class=\"colab-df-container\">\n",
              "      <div>\n",
              "<style scoped>\n",
              "    .dataframe tbody tr th:only-of-type {\n",
              "        vertical-align: middle;\n",
              "    }\n",
              "\n",
              "    .dataframe tbody tr th {\n",
              "        vertical-align: top;\n",
              "    }\n",
              "\n",
              "    .dataframe thead th {\n",
              "        text-align: right;\n",
              "    }\n",
              "</style>\n",
              "<table border=\"1\" class=\"dataframe\">\n",
              "  <thead>\n",
              "    <tr style=\"text-align: right;\">\n",
              "      <th></th>\n",
              "      <th>Open</th>\n",
              "      <th>High</th>\n",
              "      <th>Low</th>\n",
              "      <th>Close</th>\n",
              "      <th>Adj Close</th>\n",
              "      <th>Volume</th>\n",
              "    </tr>\n",
              "    <tr>\n",
              "      <th>Date</th>\n",
              "      <th></th>\n",
              "      <th></th>\n",
              "      <th></th>\n",
              "      <th></th>\n",
              "      <th></th>\n",
              "      <th></th>\n",
              "    </tr>\n",
              "  </thead>\n",
              "  <tbody>\n",
              "    <tr>\n",
              "      <th>2022-11-21</th>\n",
              "      <td>150.160004</td>\n",
              "      <td>150.369995</td>\n",
              "      <td>147.720001</td>\n",
              "      <td>148.009995</td>\n",
              "      <td>148.009995</td>\n",
              "      <td>58724100</td>\n",
              "    </tr>\n",
              "    <tr>\n",
              "      <th>2022-11-22</th>\n",
              "      <td>148.130005</td>\n",
              "      <td>150.419998</td>\n",
              "      <td>146.929993</td>\n",
              "      <td>150.179993</td>\n",
              "      <td>150.179993</td>\n",
              "      <td>51804100</td>\n",
              "    </tr>\n",
              "    <tr>\n",
              "      <th>2022-11-23</th>\n",
              "      <td>149.449997</td>\n",
              "      <td>151.830002</td>\n",
              "      <td>149.339996</td>\n",
              "      <td>151.070007</td>\n",
              "      <td>151.070007</td>\n",
              "      <td>58301400</td>\n",
              "    </tr>\n",
              "    <tr>\n",
              "      <th>2022-11-25</th>\n",
              "      <td>148.309998</td>\n",
              "      <td>148.880005</td>\n",
              "      <td>147.119995</td>\n",
              "      <td>148.110001</td>\n",
              "      <td>148.110001</td>\n",
              "      <td>35195900</td>\n",
              "    </tr>\n",
              "    <tr>\n",
              "      <th>2022-11-28</th>\n",
              "      <td>145.139999</td>\n",
              "      <td>146.639999</td>\n",
              "      <td>143.380005</td>\n",
              "      <td>144.220001</td>\n",
              "      <td>144.220001</td>\n",
              "      <td>69246000</td>\n",
              "    </tr>\n",
              "    <tr>\n",
              "      <th>2022-11-29</th>\n",
              "      <td>144.289993</td>\n",
              "      <td>144.809998</td>\n",
              "      <td>140.350006</td>\n",
              "      <td>141.169998</td>\n",
              "      <td>141.169998</td>\n",
              "      <td>83763800</td>\n",
              "    </tr>\n",
              "  </tbody>\n",
              "</table>\n",
              "</div>\n",
              "      <button class=\"colab-df-convert\" onclick=\"convertToInteractive('df-a4d00185-e4b1-427b-b323-1ebda6c98fe1')\"\n",
              "              title=\"Convert this dataframe to an interactive table.\"\n",
              "              style=\"display:none;\">\n",
              "        \n",
              "  <svg xmlns=\"http://www.w3.org/2000/svg\" height=\"24px\"viewBox=\"0 0 24 24\"\n",
              "       width=\"24px\">\n",
              "    <path d=\"M0 0h24v24H0V0z\" fill=\"none\"/>\n",
              "    <path d=\"M18.56 5.44l.94 2.06.94-2.06 2.06-.94-2.06-.94-.94-2.06-.94 2.06-2.06.94zm-11 1L8.5 8.5l.94-2.06 2.06-.94-2.06-.94L8.5 2.5l-.94 2.06-2.06.94zm10 10l.94 2.06.94-2.06 2.06-.94-2.06-.94-.94-2.06-.94 2.06-2.06.94z\"/><path d=\"M17.41 7.96l-1.37-1.37c-.4-.4-.92-.59-1.43-.59-.52 0-1.04.2-1.43.59L10.3 9.45l-7.72 7.72c-.78.78-.78 2.05 0 2.83L4 21.41c.39.39.9.59 1.41.59.51 0 1.02-.2 1.41-.59l7.78-7.78 2.81-2.81c.8-.78.8-2.07 0-2.86zM5.41 20L4 18.59l7.72-7.72 1.47 1.35L5.41 20z\"/>\n",
              "  </svg>\n",
              "      </button>\n",
              "      \n",
              "  <style>\n",
              "    .colab-df-container {\n",
              "      display:flex;\n",
              "      flex-wrap:wrap;\n",
              "      gap: 12px;\n",
              "    }\n",
              "\n",
              "    .colab-df-convert {\n",
              "      background-color: #E8F0FE;\n",
              "      border: none;\n",
              "      border-radius: 50%;\n",
              "      cursor: pointer;\n",
              "      display: none;\n",
              "      fill: #1967D2;\n",
              "      height: 32px;\n",
              "      padding: 0 0 0 0;\n",
              "      width: 32px;\n",
              "    }\n",
              "\n",
              "    .colab-df-convert:hover {\n",
              "      background-color: #E2EBFA;\n",
              "      box-shadow: 0px 1px 2px rgba(60, 64, 67, 0.3), 0px 1px 3px 1px rgba(60, 64, 67, 0.15);\n",
              "      fill: #174EA6;\n",
              "    }\n",
              "\n",
              "    [theme=dark] .colab-df-convert {\n",
              "      background-color: #3B4455;\n",
              "      fill: #D2E3FC;\n",
              "    }\n",
              "\n",
              "    [theme=dark] .colab-df-convert:hover {\n",
              "      background-color: #434B5C;\n",
              "      box-shadow: 0px 1px 3px 1px rgba(0, 0, 0, 0.15);\n",
              "      filter: drop-shadow(0px 1px 2px rgba(0, 0, 0, 0.3));\n",
              "      fill: #FFFFFF;\n",
              "    }\n",
              "  </style>\n",
              "\n",
              "      <script>\n",
              "        const buttonEl =\n",
              "          document.querySelector('#df-a4d00185-e4b1-427b-b323-1ebda6c98fe1 button.colab-df-convert');\n",
              "        buttonEl.style.display =\n",
              "          google.colab.kernel.accessAllowed ? 'block' : 'none';\n",
              "\n",
              "        async function convertToInteractive(key) {\n",
              "          const element = document.querySelector('#df-a4d00185-e4b1-427b-b323-1ebda6c98fe1');\n",
              "          const dataTable =\n",
              "            await google.colab.kernel.invokeFunction('convertToInteractive',\n",
              "                                                     [key], {});\n",
              "          if (!dataTable) return;\n",
              "\n",
              "          const docLinkHtml = 'Like what you see? Visit the ' +\n",
              "            '<a target=\"_blank\" href=https://colab.research.google.com/notebooks/data_table.ipynb>data table notebook</a>'\n",
              "            + ' to learn more about interactive tables.';\n",
              "          element.innerHTML = '';\n",
              "          dataTable['output_type'] = 'display_data';\n",
              "          await google.colab.output.renderOutput(dataTable, element);\n",
              "          const docLink = document.createElement('div');\n",
              "          docLink.innerHTML = docLinkHtml;\n",
              "          element.appendChild(docLink);\n",
              "        }\n",
              "      </script>\n",
              "    </div>\n",
              "  </div>\n",
              "  "
            ]
          },
          "metadata": {},
          "execution_count": 149
        }
      ]
    },
    {
      "cell_type": "code",
      "source": [
        "plt.figure(figsize =(16,8))\n",
        "plt.plot(temp['Close'][:len(df_new)])\n",
        "plt.plot(temp['Close'][len(df_new):], color = 'red')\n",
        "plt.title('New Predictions', fontsize=18)\n",
        "plt.xlabel('Days', fontsize=15)\n",
        "plt.ylabel('Close Price ($)', fontsize=15)\n",
        "plt.legend(['old data', 'predictions'])\n",
        "plt.show()"
      ],
      "metadata": {
        "colab": {
          "base_uri": "https://localhost:8080/",
          "height": 522
        },
        "id": "cgi0ZKgiVfft",
        "outputId": "0c5b200b-9bc4-4eb5-9672-ea02368d4633"
      },
      "execution_count": 155,
      "outputs": [
        {
          "output_type": "display_data",
          "data": {
            "text/plain": [
              "<Figure size 1152x576 with 1 Axes>"
            ],
            "image/png": "[encoded data removed]"
          },
          "metadata": {
            "needs_background": "light"
          }
        }
      ]
    }
  ]
}